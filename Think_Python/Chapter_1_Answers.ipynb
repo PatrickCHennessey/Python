{
 "cells": [
  {
   "cell_type": "code",
   "execution_count": null,
   "metadata": {},
   "outputs": [],
   "source": [
    "# Chapter 1 Exercises"
   ]
  },
  {
   "cell_type": "code",
   "execution_count": 17,
   "metadata": {},
   "outputs": [
    {
     "data": {
      "text/plain": [
       "42"
      ]
     },
     "execution_count": 17,
     "metadata": {},
     "output_type": "execute_result"
    }
   ],
   "source": [
    "# Arithmetic Operators\n",
    "\n",
    "# Addition\n",
    "\n",
    "40+2\n",
    "\n",
    "# Subtraction\n",
    "\n",
    "43-1\n",
    "\n",
    "# Multiplication\n",
    "\n",
    "6*7\n",
    "\n",
    "# Division\n",
    "\n",
    "84 / 2\n",
    "\n",
    "# Note: 84 / 2 will return a float value of 42.0\n",
    "\n",
    "# Exponentation\n",
    "\n",
    "6**2 + 6"
   ]
  },
  {
   "cell_type": "code",
   "execution_count": 18,
   "metadata": {},
   "outputs": [
    {
     "data": {
      "text/plain": [
       "int"
      ]
     },
     "execution_count": 18,
     "metadata": {},
     "output_type": "execute_result"
    }
   ],
   "source": [
    "# Different Types and Values: Integer\n",
    "\n",
    "type(2)"
   ]
  },
  {
   "cell_type": "code",
   "execution_count": 19,
   "metadata": {},
   "outputs": [
    {
     "data": {
      "text/plain": [
       "float"
      ]
     },
     "execution_count": 19,
     "metadata": {},
     "output_type": "execute_result"
    }
   ],
   "source": [
    "# Different Types and Values: Float\n",
    "\n",
    "type(42.0)"
   ]
  },
  {
   "cell_type": "code",
   "execution_count": 21,
   "metadata": {},
   "outputs": [
    {
     "data": {
      "text/plain": [
       "str"
      ]
     },
     "execution_count": 21,
     "metadata": {},
     "output_type": "execute_result"
    }
   ],
   "source": [
    "# Different Types and Values: String\n",
    "type('Hello, World!')"
   ]
  },
  {
   "cell_type": "code",
   "execution_count": 38,
   "metadata": {},
   "outputs": [],
   "source": [
    "# Using commas in large numbers \n",
    "\n",
    "# In several of the following cells I will attempt to have the output return a value of '1,000,000' \n",
    "# to highlight the error in using commas with integers.  "
   ]
  },
  {
   "cell_type": "code",
   "execution_count": 33,
   "metadata": {},
   "outputs": [
    {
     "data": {
      "text/plain": [
       "(1, 0, 0)"
      ]
     },
     "execution_count": 33,
     "metadata": {},
     "output_type": "execute_result"
    }
   ],
   "source": [
    "1,000,000\n",
    "\n",
    "# Undesired outcome output as output will return (1, 0, 0)"
   ]
  },
  {
   "cell_type": "code",
   "execution_count": 39,
   "metadata": {},
   "outputs": [
    {
     "name": "stdout",
     "output_type": "stream",
     "text": [
      "1 0 0\n"
     ]
    }
   ],
   "source": [
    "print(1,000,000)\n",
    "\n",
    "# Undesired outcome as output will return (1 0 0)"
   ]
  },
  {
   "cell_type": "code",
   "execution_count": 44,
   "metadata": {},
   "outputs": [
    {
     "name": "stdout",
     "output_type": "stream",
     "text": [
      "1000000\n"
     ]
    },
    {
     "data": {
      "text/plain": [
       "int"
      ]
     },
     "execution_count": 44,
     "metadata": {},
     "output_type": "execute_result"
    }
   ],
   "source": [
    "1000000\n",
    "print(1000000)\n",
    "\n",
    "type(1000000)\n",
    "\n",
    "# In this cell the output value is the correct type, an integer, but lacks commas. "
   ]
  },
  {
   "cell_type": "code",
   "execution_count": 42,
   "metadata": {},
   "outputs": [
    {
     "name": "stdout",
     "output_type": "stream",
     "text": [
      "1,000,000\n"
     ]
    },
    {
     "data": {
      "text/plain": [
       "str"
      ]
     },
     "execution_count": 42,
     "metadata": {},
     "output_type": "execute_result"
    }
   ],
   "source": [
    "print('1,000,000')\n",
    "\n",
    "type('1,000,000')\n",
    "\n",
    "# This cell returns an output value of 1,000,000.\n",
    "# However as it is in between  a pair of 's it will be classified as a string. "
   ]
  },
  {
   "cell_type": "code",
   "execution_count": 59,
   "metadata": {},
   "outputs": [
    {
     "ename": "SyntaxError",
     "evalue": "unexpected EOF while parsing (<ipython-input-59-ef787fe19327>, line 12)",
     "output_type": "error",
     "traceback": [
      "\u001b[1;36m  File \u001b[1;32m\"<ipython-input-59-ef787fe19327>\"\u001b[1;36m, line \u001b[1;32m12\u001b[0m\n\u001b[1;33m    # Note: \"EOF\" or \"End of File\" and Python is missing input from the user.\u001b[0m\n\u001b[1;37m                                                                              ^\u001b[0m\n\u001b[1;31mSyntaxError\u001b[0m\u001b[1;31m:\u001b[0m unexpected EOF while parsing\n"
     ]
    }
   ],
   "source": [
    "# Exercise 1-1\n",
    "\n",
    "# 1. In a print statement, what happens if you leave out one of the parentheses?\n",
    "\n",
    "print(Hello, World\n",
    "\n",
    "# Note: A SyntaxError will occur indicating an \"EOF\" or \"End Of File\". Python is missing input from the user. "
   ]
  },
  {
   "cell_type": "code",
   "execution_count": 49,
   "metadata": {},
   "outputs": [
    {
     "ename": "SyntaxError",
     "evalue": "Missing parentheses in call to 'print'. Did you mean print(Hello, World)? (<ipython-input-49-c2b86b9cb926>, line 1)",
     "output_type": "error",
     "traceback": [
      "\u001b[1;36m  File \u001b[1;32m\"<ipython-input-49-c2b86b9cb926>\"\u001b[1;36m, line \u001b[1;32m1\u001b[0m\n\u001b[1;33m    print Hello, World\u001b[0m\n\u001b[1;37m          ^\u001b[0m\n\u001b[1;31mSyntaxError\u001b[0m\u001b[1;31m:\u001b[0m Missing parentheses in call to 'print'. Did you mean print(Hello, World)?\n"
     ]
    }
   ],
   "source": [
    "# Exercise 1-1 (continued)\n",
    "\n",
    "# 2. In a print statement, what happens if you leave out both of the parentheses?\n",
    "\n",
    "print Hello, World\n",
    "\n",
    "# A SyntaxError will occur indicating there are missing parentheses."
   ]
  },
  {
   "cell_type": "code",
   "execution_count": 58,
   "metadata": {},
   "outputs": [
    {
     "ename": "SyntaxError",
     "evalue": "EOL while scanning string literal (<ipython-input-58-9217f3b277dc>, line 5)",
     "output_type": "error",
     "traceback": [
      "\u001b[1;36m  File \u001b[1;32m\"<ipython-input-58-9217f3b277dc>\"\u001b[1;36m, line \u001b[1;32m5\u001b[0m\n\u001b[1;33m    print('this is an example of an incorrect string statement)\u001b[0m\n\u001b[1;37m                                                               ^\u001b[0m\n\u001b[1;31mSyntaxError\u001b[0m\u001b[1;31m:\u001b[0m EOL while scanning string literal\n"
     ]
    }
   ],
   "source": [
    "# Exercise 1-1 (continued)\n",
    "\n",
    "# 3. If you are trying to print a string, what happens if you leave out one of the quotation marks?\n",
    "\n",
    "print('this is an example of an incorrect string statement)\n",
    "      \n",
    "# Note: An \"EOL\" or \"End Of Line\" Syntax Error will occur. "
   ]
  },
  {
   "cell_type": "code",
   "execution_count": 61,
   "metadata": {},
   "outputs": [
    {
     "ename": "SyntaxError",
     "evalue": "invalid syntax (<ipython-input-61-4509c216b123>, line 5)",
     "output_type": "error",
     "traceback": [
      "\u001b[1;36m  File \u001b[1;32m\"<ipython-input-61-4509c216b123>\"\u001b[1;36m, line \u001b[1;32m5\u001b[0m\n\u001b[1;33m    print(this is an example of an incorrect string statement)\u001b[0m\n\u001b[1;37m                     ^\u001b[0m\n\u001b[1;31mSyntaxError\u001b[0m\u001b[1;31m:\u001b[0m invalid syntax\n"
     ]
    }
   ],
   "source": [
    "# Exercise 1-1 (continued)\n",
    "\n",
    "# 4. If you are trying to print a string, what happens if you leave out both of the quotation marks?\n",
    "\n",
    "print(this is an example of an incorrect string statement)"
   ]
  },
  {
   "cell_type": "code",
   "execution_count": 85,
   "metadata": {},
   "outputs": [
    {
     "data": {
      "text/plain": [
       "int"
      ]
     },
     "execution_count": 85,
     "metadata": {},
     "output_type": "execute_result"
    }
   ],
   "source": [
    "# Exercise 1-1 (continued)\n",
    "\n",
    "# 5. You can use a minus sign to make a negative number like -2. \n",
    "# What happens if you put a plus sign \"+\" before a number?\n",
    "\n",
    "+42\n",
    "\n",
    "type(+42)\n",
    "\n",
    "# Note: When a plus sign is put before a number the output is a positive integer without a plus sign in front of it.  "
   ]
  },
  {
   "cell_type": "code",
   "execution_count": 95,
   "metadata": {},
   "outputs": [
    {
     "data": {
      "text/plain": [
       "14"
      ]
     },
     "execution_count": 95,
     "metadata": {},
     "output_type": "execute_result"
    }
   ],
   "source": [
    "# Exercise 1-1 (continued)\n",
    "\n",
    "# 6. You can use a minus sign to make a negative number like -2. \n",
    "# What happens if you put a double plus sign \"++\" between two numbers?\n",
    "\n",
    "5++9\n",
    "\n",
    "# Note: a double plus sign between two numbers will sum the two numbers and return an integer.   "
   ]
  },
  {
   "cell_type": "code",
   "execution_count": 94,
   "metadata": {},
   "outputs": [
    {
     "ename": "SyntaxError",
     "evalue": "leading zeros in decimal integer literals are not permitted; use an 0o prefix for octal integers (<ipython-input-94-dd039f20dd7d>, line 5)",
     "output_type": "error",
     "traceback": [
      "\u001b[1;36m  File \u001b[1;32m\"<ipython-input-94-dd039f20dd7d>\"\u001b[1;36m, line \u001b[1;32m5\u001b[0m\n\u001b[1;33m    02. + 08\u001b[0m\n\u001b[1;37m           ^\u001b[0m\n\u001b[1;31mSyntaxError\u001b[0m\u001b[1;31m:\u001b[0m leading zeros in decimal integer literals are not permitted; use an 0o prefix for octal integers\n"
     ]
    }
   ],
   "source": [
    "# Exercise 1-1 (continued)\n",
    "\n",
    "# 7. In math notation, leading zeroes are okay, as in 02. What happens if you try this in Python?\n",
    "\n",
    "02 + 08\n",
    "\n",
    "# Note: A SyntaxError message occurs informing us that leading zeroes are not permitted in Python. "
   ]
  },
  {
   "cell_type": "code",
   "execution_count": 90,
   "metadata": {},
   "outputs": [
    {
     "ename": "SyntaxError",
     "evalue": "invalid syntax (<ipython-input-90-e04f385c380c>, line 5)",
     "output_type": "error",
     "traceback": [
      "\u001b[1;36m  File \u001b[1;32m\"<ipython-input-90-e04f385c380c>\"\u001b[1;36m, line \u001b[1;32m5\u001b[0m\n\u001b[1;33m    +2 5\u001b[0m\n\u001b[1;37m       ^\u001b[0m\n\u001b[1;31mSyntaxError\u001b[0m\u001b[1;31m:\u001b[0m invalid syntax\n"
     ]
    }
   ],
   "source": [
    "# Exercise 1-1 (continued)\n",
    "\n",
    "# 8. What happens if you have two values with no operator between them?\n",
    "\n",
    "+2 5\n",
    "\n",
    "#Note: A SyntaxError occurs with the message invalid syntax."
   ]
  },
  {
   "cell_type": "code",
   "execution_count": null,
   "metadata": {},
   "outputs": [],
   "source": [
    "# Exercise 1-2 \n",
    "\n",
    "# 1. How many seconds are there in 42 minutes and 42 seconds?"
   ]
  },
  {
   "cell_type": "code",
   "execution_count": null,
   "metadata": {},
   "outputs": [],
   "source": [
    "# Exercise 1-2 (continued)\n",
    "\n",
    "# 2. How many miles are there in 10 kilometers? Hint: There are 1.61 kilometers in a mile.\n",
    "\n"
   ]
  },
  {
   "cell_type": "code",
   "execution_count": null,
   "metadata": {},
   "outputs": [],
   "source": [
    "# Exercise 1-2 (continued)\n",
    "\n",
    "# 3. If you run a 10 kilometer race in 42 minutes and 42 seconds, what is your average pace (time per mile in minutes and seconds)? "
   ]
  },
  {
   "cell_type": "code",
   "execution_count": null,
   "metadata": {},
   "outputs": [],
   "source": [
    "# Exercise 1-2 (continued)\n",
    "\n",
    "# 4.  If you run a 10 kilometer race in 42 minutes and 42 seconds, what is your average speed in miles per hour?"
   ]
  }
 ],
 "metadata": {
  "kernelspec": {
   "display_name": "Python 3",
   "language": "python",
   "name": "python3"
  },
  "language_info": {
   "codemirror_mode": {
    "name": "ipython",
    "version": 3
   },
   "file_extension": ".py",
   "mimetype": "text/x-python",
   "name": "python",
   "nbconvert_exporter": "python",
   "pygments_lexer": "ipython3",
   "version": "3.8.5"
  }
 },
 "nbformat": 4,
 "nbformat_minor": 4
}
