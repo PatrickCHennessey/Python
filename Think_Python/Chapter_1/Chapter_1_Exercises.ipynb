{
 "cells": [
  {
   "cell_type": "code",
   "execution_count": 1,
   "metadata": {},
   "outputs": [],
   "source": [
    "# Chapter 1 Exercises"
   ]
  },
  {
   "cell_type": "code",
   "execution_count": 2,
   "metadata": {},
   "outputs": [
    {
     "data": {
      "text/plain": [
       "42"
      ]
     },
     "execution_count": 2,
     "metadata": {},
     "output_type": "execute_result"
    }
   ],
   "source": [
    "# Arithmetic Operators\n",
    "\n",
    "# Addition\n",
    "\n",
    "40+2\n",
    "\n",
    "# Subtraction\n",
    "\n",
    "43-1\n",
    "\n",
    "# Multiplication\n",
    "\n",
    "6*7\n",
    "\n",
    "# Division\n",
    "\n",
    "84 / 2\n",
    "\n",
    "# Note: 84 / 2 will return a float value of 42.0\n",
    "\n",
    "# Exponentation\n",
    "\n",
    "6**2 + 6"
   ]
  },
  {
   "cell_type": "code",
   "execution_count": 3,
   "metadata": {},
   "outputs": [
    {
     "data": {
      "text/plain": [
       "int"
      ]
     },
     "execution_count": 3,
     "metadata": {},
     "output_type": "execute_result"
    }
   ],
   "source": [
    "# Different Types and Values: Integer\n",
    "\n",
    "type(2)"
   ]
  },
  {
   "cell_type": "code",
   "execution_count": 4,
   "metadata": {},
   "outputs": [
    {
     "data": {
      "text/plain": [
       "float"
      ]
     },
     "execution_count": 4,
     "metadata": {},
     "output_type": "execute_result"
    }
   ],
   "source": [
    "# Different Types and Values: Float\n",
    "\n",
    "type(42.0)"
   ]
  },
  {
   "cell_type": "code",
   "execution_count": 5,
   "metadata": {},
   "outputs": [
    {
     "data": {
      "text/plain": [
       "str"
      ]
     },
     "execution_count": 5,
     "metadata": {},
     "output_type": "execute_result"
    }
   ],
   "source": [
    "# Different Types and Values: String\n",
    "type('Hello, World!')"
   ]
  },
  {
   "cell_type": "code",
   "execution_count": 6,
   "metadata": {},
   "outputs": [],
   "source": [
    "# Using commas in large numbers \n",
    "\n",
    "# In several of the following cells I will attempt to have the output return a value of '1,000,000' \n",
    "# to highlight the error in using commas with integers.  "
   ]
  },
  {
   "cell_type": "code",
   "execution_count": 7,
   "metadata": {},
   "outputs": [
    {
     "data": {
      "text/plain": [
       "(1, 0, 0)"
      ]
     },
     "execution_count": 7,
     "metadata": {},
     "output_type": "execute_result"
    }
   ],
   "source": [
    "1,000,000\n",
    "\n",
    "# Undesired outcome output as output will return (1, 0, 0)"
   ]
  },
  {
   "cell_type": "code",
   "execution_count": 8,
   "metadata": {},
   "outputs": [
    {
     "name": "stdout",
     "output_type": "stream",
     "text": [
      "1 0 0\n"
     ]
    }
   ],
   "source": [
    "print(1,000,000)\n",
    "\n",
    "# Undesired outcome as output will return (1 0 0)"
   ]
  },
  {
   "cell_type": "code",
   "execution_count": 9,
   "metadata": {},
   "outputs": [
    {
     "name": "stdout",
     "output_type": "stream",
     "text": [
      "1000000\n"
     ]
    },
    {
     "data": {
      "text/plain": [
       "int"
      ]
     },
     "execution_count": 9,
     "metadata": {},
     "output_type": "execute_result"
    }
   ],
   "source": [
    "1000000\n",
    "print(1000000)\n",
    "\n",
    "type(1000000)\n",
    "\n",
    "# In this cell the output value is the correct type, an integer, but lacks commas. "
   ]
  },
  {
   "cell_type": "code",
   "execution_count": 10,
   "metadata": {},
   "outputs": [
    {
     "name": "stdout",
     "output_type": "stream",
     "text": [
      "1,000,000\n"
     ]
    },
    {
     "data": {
      "text/plain": [
       "str"
      ]
     },
     "execution_count": 10,
     "metadata": {},
     "output_type": "execute_result"
    }
   ],
   "source": [
    "print('1,000,000')\n",
    "\n",
    "type('1,000,000')\n",
    "\n",
    "# This cell returns an output value of 1,000,000.\n",
    "# However as it is in between  a pair of 's it will be classified as a string. "
   ]
  },
  {
   "cell_type": "code",
   "execution_count": 11,
   "metadata": {},
   "outputs": [],
   "source": [
    "# Exercise 1-1\n",
    "\n",
    "# 1. In a print statement, what happens if you leave out one of the parentheses?"
   ]
  },
  {
   "cell_type": "code",
   "execution_count": 12,
   "metadata": {},
   "outputs": [],
   "source": [
    "# Exercise 1-1 (continued)\n",
    "\n",
    "# 2. In a print statement, what happens if you leave out both of the parentheses?"
   ]
  },
  {
   "cell_type": "code",
   "execution_count": 13,
   "metadata": {},
   "outputs": [],
   "source": [
    "# Exercise 1-1 (continued)\n",
    "\n",
    "# 3. If you are trying to print a string, what happens if you leave out one of the quotation marks?"
   ]
  },
  {
   "cell_type": "code",
   "execution_count": 14,
   "metadata": {},
   "outputs": [],
   "source": [
    "# Exercise 1-1 (continued)\n",
    "\n",
    "# 4. If you are trying to print a string, what happens if you leave out both of the quotation marks?"
   ]
  },
  {
   "cell_type": "code",
   "execution_count": 15,
   "metadata": {},
   "outputs": [],
   "source": [
    "# Exercise 1-1 (continued)\n",
    "\n",
    "# 5. You can use a minus sign to make a negative number like -2. \n",
    "# What happens if you put a plus sign \"+\" before a number?"
   ]
  },
  {
   "cell_type": "code",
   "execution_count": 16,
   "metadata": {},
   "outputs": [],
   "source": [
    "# Exercise 1-1 (continued)\n",
    "\n",
    "# 6. You can use a minus sign to make a negative number like -2. \n",
    "# What happens if you put a double plus sign \"++\" between two numbers?"
   ]
  },
  {
   "cell_type": "code",
   "execution_count": 17,
   "metadata": {},
   "outputs": [],
   "source": [
    "# Exercise 1-1 (continued)\n",
    "\n",
    "# 7. In math notation, leading zeroes are okay, as in 02. What happens if you try this in Python?"
   ]
  },
  {
   "cell_type": "code",
   "execution_count": 18,
   "metadata": {},
   "outputs": [],
   "source": [
    "# Exercise 1-1 (continued)\n",
    "\n",
    "# 8. What happens if you have two values with no operator between them?"
   ]
  },
  {
   "cell_type": "code",
   "execution_count": 19,
   "metadata": {},
   "outputs": [],
   "source": [
    "# Exercise 1-2 \n",
    "\n",
    "# 1. How many seconds are there in 42 minutes and 42 seconds?"
   ]
  },
  {
   "cell_type": "code",
   "execution_count": 20,
   "metadata": {},
   "outputs": [],
   "source": [
    "# Exercise 1-2 (continued)\n",
    "\n",
    "# 2. How many miles are there in 10 kilometers? Hint: There are 1.61 kilometers in a mile."
   ]
  },
  {
   "cell_type": "code",
   "execution_count": 21,
   "metadata": {},
   "outputs": [],
   "source": [
    "# Exercise 1-2 (continued)\n",
    "\n",
    "# 3. If you run a 10 kilometer race in 42 minutes and 42 seconds, \n",
    "# what is your average pace (time per mile in minutes and seconds)? "
   ]
  },
  {
   "cell_type": "code",
   "execution_count": 22,
   "metadata": {},
   "outputs": [],
   "source": [
    "# Exercise 1-2 (continued)\n",
    "\n",
    "# 4.  If you run a 10 kilometer race in 42 minutes and 42 seconds, \n",
    "# what is your average speed in miles per hour?"
   ]
  }
 ],
 "metadata": {
  "kernelspec": {
   "display_name": "Python 3",
   "language": "python",
   "name": "python3"
  },
  "language_info": {
   "codemirror_mode": {
    "name": "ipython",
    "version": 3
   },
   "file_extension": ".py",
   "mimetype": "text/x-python",
   "name": "python",
   "nbconvert_exporter": "python",
   "pygments_lexer": "ipython3",
   "version": "3.8.5"
  }
 },
 "nbformat": 4,
 "nbformat_minor": 4
}
