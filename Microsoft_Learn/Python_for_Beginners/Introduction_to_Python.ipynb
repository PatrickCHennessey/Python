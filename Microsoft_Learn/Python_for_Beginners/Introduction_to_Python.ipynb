{
 "cells": [
  {
   "cell_type": "code",
   "execution_count": null,
   "id": "ef2dff86-6e2f-424c-bde3-8abc79b59e85",
   "metadata": {},
   "outputs": [],
   "source": [
    "1+1"
   ]
  },
  {
   "cell_type": "code",
   "execution_count": null,
   "id": "1d65046c-56e1-45b8-8c39-1305f2b95443",
   "metadata": {},
   "outputs": [],
   "source": [
    "PI = 3.14"
   ]
  },
  {
   "cell_type": "code",
   "execution_count": null,
   "id": "296bce03-3618-476e-a90a-0dca98095096",
   "metadata": {},
   "outputs": [],
   "source": [
    "PI"
   ]
  },
  {
   "cell_type": "code",
   "execution_count": null,
   "id": "acdf8382-270c-48cf-b803-973eeee335c8",
   "metadata": {},
   "outputs": [],
   "source": [
    "help([object])"
   ]
  },
  {
   "cell_type": "code",
   "execution_count": null,
   "id": "11cd1a9d-9303-4dfe-a84c-6343bfe2d915",
   "metadata": {},
   "outputs": [],
   "source": [
    " help()"
   ]
  },
  {
   "cell_type": "code",
   "execution_count": null,
   "id": "041d9778-04c4-46de-a97e-9f9ff1ad7242",
   "metadata": {},
   "outputs": [],
   "source": [
    "x = 1         # assign variable x the value 1\n",
    "y = x + 5     # assign variable y the value of x plus 5\n",
    "z = y         # assign variable z the value of y"
   ]
  },
  {
   "cell_type": "code",
   "execution_count": null,
   "id": "1c30f187-7bd8-419a-b01b-676a790fb4e0",
   "metadata": {},
   "outputs": [],
   "source": [
    "x = 1       # integer\n",
    "x = 1.0     # decimal (floating point)"
   ]
  },
  {
   "cell_type": "code",
   "execution_count": null,
   "id": "270b3e70-045a-4231-b30b-a5c471a00fd1",
   "metadata": {},
   "outputs": [],
   "source": [
    "x = 1\n",
    "print(type(x)) # outputs: <class 'int'>\n",
    "\n",
    "x = 1.0\n",
    "print(type(x)) # outputs: <class 'float'>"
   ]
  },
  {
   "cell_type": "code",
   "execution_count": null,
   "id": "3e9ad95d-0728-47d1-b2a1-0a6e3fde7c2e",
   "metadata": {},
   "outputs": [],
   "source": [
    "x = True\n",
    "print(type(x)) # outputs: <class 'bool'>"
   ]
  },
  {
   "cell_type": "code",
   "execution_count": null,
   "id": "fe19a64a-29de-459d-94eb-9a34d987ed3a",
   "metadata": {},
   "outputs": [],
   "source": [
    "x = 'This is a string'\n",
    "print(x) # outputs: This is a string\n",
    "print(type(x)) # outputs: <class 'str'>\n",
    "y = \"This is also a string\""
   ]
  },
  {
   "cell_type": "code",
   "execution_count": null,
   "id": "8586fd10-7409-483b-950b-eda2bee4c36d",
   "metadata": {},
   "outputs": [],
   "source": [
    "x = 'Hello' + ' ' + 'World!'\n",
    "print(x) # outputs: Hello World!"
   ]
  },
  {
   "cell_type": "code",
   "execution_count": null,
   "id": "e1f357be-74b0-4c21-b1a9-7c0920d3ce94",
   "metadata": {},
   "outputs": [],
   "source": [
    "print('Hello World!')"
   ]
  },
  {
   "cell_type": "code",
   "execution_count": 1,
   "id": "6b1123d2-dcf4-4cec-97ef-df9d0b6e19a6",
   "metadata": {},
   "outputs": [
    {
     "name": "stdin",
     "output_type": "stream",
     "text": [
      "Enter your name: Patrick Hennessey\n"
     ]
    },
    {
     "name": "stdout",
     "output_type": "stream",
     "text": [
      "Patrick Hennessey\n"
     ]
    }
   ],
   "source": [
    "name = input('Enter your name:')\n",
    "print(name)"
   ]
  },
  {
   "cell_type": "code",
   "execution_count": 2,
   "id": "36170593-8fa7-4d78-a1a3-68e60ba1ef21",
   "metadata": {},
   "outputs": [
    {
     "name": "stdout",
     "output_type": "stream",
     "text": [
      "What is your name?\n"
     ]
    },
    {
     "name": "stdin",
     "output_type": "stream",
     "text": [
      " Patrick Hennessey\n"
     ]
    },
    {
     "name": "stdout",
     "output_type": "stream",
     "text": [
      "Patrick Hennessey\n"
     ]
    }
   ],
   "source": [
    "print('What is your name?')\n",
    "name = input()\n",
    "print(name)"
   ]
  },
  {
   "cell_type": "code",
   "execution_count": 3,
   "id": "a9c5a876-847b-4e83-b9b9-e6fc5e83b75d",
   "metadata": {},
   "outputs": [
    {
     "name": "stdin",
     "output_type": "stream",
     "text": [
      "Enter a number:  42\n"
     ]
    },
    {
     "name": "stdout",
     "output_type": "stream",
     "text": [
      "<class 'str'>\n"
     ]
    }
   ],
   "source": [
    "x = input('Enter a number: ')\n",
    "print(type(x))"
   ]
  },
  {
   "cell_type": "code",
   "execution_count": 4,
   "id": "204746f9-8990-4976-a644-282e8097cee5",
   "metadata": {},
   "outputs": [
    {
     "name": "stdin",
     "output_type": "stream",
     "text": [
      "Enter a number:  42\n"
     ]
    },
    {
     "name": "stdout",
     "output_type": "stream",
     "text": [
      "<class 'int'>\n"
     ]
    }
   ],
   "source": [
    "x = int(input('Enter a number: '))\n",
    "print(type(x))"
   ]
  },
  {
   "cell_type": "code",
   "execution_count": 5,
   "id": "b93c2e50-f8eb-46d2-9b5a-27f67bcc0027",
   "metadata": {},
   "outputs": [
    {
     "name": "stdout",
     "output_type": "stream",
     "text": [
      "The number is 5\n"
     ]
    }
   ],
   "source": [
    "x = 5\n",
    "print('The number is ' + str(x))"
   ]
  },
  {
   "cell_type": "code",
   "execution_count": 6,
   "id": "612e53b3-1814-464e-885d-f5a368cfb011",
   "metadata": {},
   "outputs": [
    {
     "name": "stdin",
     "output_type": "stream",
     "text": [
      "Type the first number:  2\n",
      "Type the second number:  3\n"
     ]
    },
    {
     "name": "stdout",
     "output_type": "stream",
     "text": [
      "The sum is:  5\n"
     ]
    }
   ],
   "source": [
    "first_number = int(input('Type the first number: ')) ;\\\n",
    "second_number = int(input('Type the second number: ')) ;\\\n",
    "print(\"The sum is: \", first_number + second_number)"
   ]
  },
  {
   "cell_type": "code",
   "execution_count": null,
   "id": "2aea4202-9473-4939-93eb-d3b869efe36d",
   "metadata": {},
   "outputs": [],
   "source": []
  }
 ],
 "metadata": {
  "kernelspec": {
   "display_name": "Python 3",
   "language": "python",
   "name": "python3"
  },
  "language_info": {
   "codemirror_mode": {
    "name": "ipython",
    "version": 3
   },
   "file_extension": ".py",
   "mimetype": "text/x-python",
   "name": "python",
   "nbconvert_exporter": "python",
   "pygments_lexer": "ipython3",
   "version": "3.8.8"
  }
 },
 "nbformat": 4,
 "nbformat_minor": 5
}
