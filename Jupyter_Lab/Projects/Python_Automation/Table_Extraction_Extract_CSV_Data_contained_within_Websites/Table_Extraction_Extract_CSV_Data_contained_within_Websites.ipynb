{
 "cells": [
  {
   "cell_type": "code",
   "execution_count": 1,
   "id": "b2ca85e8-1e4e-41ac-a679-1b1c6b47ec9a",
   "metadata": {},
   "outputs": [],
   "source": [
    "# Table Extraction: Extract CSV Data contained within Websites"
   ]
  },
  {
   "cell_type": "code",
   "execution_count": 2,
   "id": "c1d8c5a3-5441-42a6-b737-d24a32ad21eb",
   "metadata": {},
   "outputs": [],
   "source": [
    "# Import libraries\n",
    "import pandas as pd"
   ]
  },
  {
   "cell_type": "code",
   "execution_count": null,
   "id": "1ecf9d78-23a5-4246-8ce8-384e21800b23",
   "metadata": {},
   "outputs": [],
   "source": [
    "# Read a CSV file from the website https://www.football-data.co.uk/data.php\n",
    "pd.read_csv('https://www.football-data.co.uk/mmz4281/2223/E0.csv')"
   ]
  }
 ],
 "metadata": {
  "kernelspec": {
   "display_name": "Python 3 (ipykernel)",
   "language": "python",
   "name": "python3"
  },
  "language_info": {
   "codemirror_mode": {
    "name": "ipython",
    "version": 3
   },
   "file_extension": ".py",
   "mimetype": "text/x-python",
   "name": "python",
   "nbconvert_exporter": "python",
   "pygments_lexer": "ipython3",
   "version": "3.8.16"
  }
 },
 "nbformat": 4,
 "nbformat_minor": 5
}
