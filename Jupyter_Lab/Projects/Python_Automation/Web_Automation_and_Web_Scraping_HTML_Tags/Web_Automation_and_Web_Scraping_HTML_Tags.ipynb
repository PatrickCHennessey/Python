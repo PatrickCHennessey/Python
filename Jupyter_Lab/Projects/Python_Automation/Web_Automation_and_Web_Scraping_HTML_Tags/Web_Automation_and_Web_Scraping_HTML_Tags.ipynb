{
 "cells": [
  {
   "cell_type": "code",
   "execution_count": 1,
   "id": "2a968736-15ba-410a-8abd-cf29a4e12b5f",
   "metadata": {},
   "outputs": [],
   "source": [
    "# Web_Automation_and_Web_Scraping_HTML_Tags"
   ]
  },
  {
   "cell_type": "code",
   "execution_count": null,
   "id": "efdc9bb7-228e-4c09-ada3-0454ebd3c4b5",
   "metadata": {},
   "outputs": [],
   "source": []
  }
 ],
 "metadata": {
  "kernelspec": {
   "display_name": "Python 3 (ipykernel)",
   "language": "python",
   "name": "python3"
  },
  "language_info": {
   "codemirror_mode": {
    "name": "ipython",
    "version": 3
   },
   "file_extension": ".py",
   "mimetype": "text/x-python",
   "name": "python",
   "nbconvert_exporter": "python",
   "pygments_lexer": "ipython3",
   "version": "3.8.16"
  }
 },
 "nbformat": 4,
 "nbformat_minor": 5
}
