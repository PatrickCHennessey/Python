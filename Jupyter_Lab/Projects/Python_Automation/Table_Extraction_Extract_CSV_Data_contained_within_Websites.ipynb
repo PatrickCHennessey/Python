{
 "cells": [
  {
   "cell_type": "code",
   "execution_count": null,
   "id": "b2ca85e8-1e4e-41ac-a679-1b1c6b47ec9a",
   "metadata": {},
   "outputs": [],
   "source": [
    "# Table Extraction: Extract CSV Data contained within Websites"
   ]
  }
 ],
 "metadata": {
  "kernelspec": {
   "display_name": "Python 3 (ipykernel)",
   "language": "python",
   "name": "python3"
  },
  "language_info": {
   "codemirror_mode": {
    "name": "ipython",
    "version": 3
   },
   "file_extension": ".py",
   "mimetype": "text/x-python",
   "name": "python",
   "nbconvert_exporter": "python",
   "pygments_lexer": "ipython3",
   "version": "3.8.16"
  }
 },
 "nbformat": 4,
 "nbformat_minor": 5
}
