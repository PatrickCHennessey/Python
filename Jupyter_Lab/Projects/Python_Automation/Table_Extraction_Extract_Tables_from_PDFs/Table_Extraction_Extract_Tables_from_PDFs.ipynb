{
 "cells": [
  {
   "cell_type": "code",
   "execution_count": 1,
   "id": "13b9cb74-3311-46ab-b4ec-8a3c6bd01b71",
   "metadata": {},
   "outputs": [],
   "source": [
    "# Table Extraction: Extract Tables from PDF's"
   ]
  },
  {
   "cell_type": "code",
   "execution_count": null,
   "id": "e2ba6f25-f3a9-4d9b-9e3c-f5a155bd98d3",
   "metadata": {},
   "outputs": [],
   "source": []
  }
 ],
 "metadata": {
  "kernelspec": {
   "display_name": "Python 3 (ipykernel)",
   "language": "python",
   "name": "python3"
  },
  "language_info": {
   "codemirror_mode": {
    "name": "ipython",
    "version": 3
   },
   "file_extension": ".py",
   "mimetype": "text/x-python",
   "name": "python",
   "nbconvert_exporter": "python",
   "pygments_lexer": "ipython3",
   "version": "3.8.16"
  }
 },
 "nbformat": 4,
 "nbformat_minor": 5
}
