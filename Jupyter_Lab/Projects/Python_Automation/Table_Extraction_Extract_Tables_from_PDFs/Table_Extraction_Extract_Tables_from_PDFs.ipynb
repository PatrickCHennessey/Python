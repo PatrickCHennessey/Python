{
 "cells": [
  {
   "cell_type": "code",
   "execution_count": 1,
   "id": "13b9cb74-3311-46ab-b4ec-8a3c6bd01b71",
   "metadata": {},
   "outputs": [],
   "source": [
    "# Table Extraction: Extract Tables from PDF's"
   ]
  },
  {
   "cell_type": "code",
   "execution_count": 2,
   "id": "e2ba6f25-f3a9-4d9b-9e3c-f5a155bd98d3",
   "metadata": {
    "tags": []
   },
   "outputs": [],
   "source": [
    "# Install missing Python libraries \n",
    "\n",
    "#!pip install tk\n",
    "#!pip install ghostscript\n",
    "#!pip install camelot-py\n",
    "#!pip install opencv-python"
   ]
  },
  {
   "cell_type": "code",
   "execution_count": 5,
   "id": "c949cdae-30d5-418a-a8a0-792616d44609",
   "metadata": {},
   "outputs": [],
   "source": [
    "# Import libraries\n",
    "import cv2\n",
    "import camelot\n",
    "import ghostscript\n",
    "import tk"
   ]
  },
  {
   "cell_type": "code",
   "execution_count": 22,
   "id": "b851cf49-1975-44e5-ac61-91de0d910f10",
   "metadata": {},
   "outputs": [
    {
     "data": {
      "text/plain": [
       "<TableList n=1>"
      ]
     },
     "execution_count": 22,
     "metadata": {},
     "output_type": "execute_result"
    }
   ],
   "source": [
    "# Read the PDF file\n",
    "camelot.read_pdf('foo.pdf', pages='1')"
   ]
  },
  {
   "cell_type": "code",
   "execution_count": 23,
   "id": "f3d28273-1338-4aaf-a28e-f15b1d4ab1ed",
   "metadata": {},
   "outputs": [],
   "source": [
    "# Assign a variable to read the PDF file\n",
    "table = camelot.read_pdf('foo.pdf', pages='1')"
   ]
  },
  {
   "cell_type": "code",
   "execution_count": 25,
   "id": "3c5a3b4c-e908-4d81-ae6a-d0f28cd3d0c8",
   "metadata": {},
   "outputs": [
    {
     "name": "stdout",
     "output_type": "stream",
     "text": [
      "<TableList n=1>\n"
     ]
    }
   ],
   "source": [
    "# Read the variable, n=x, where x= the # of table(s) on a given page \n",
    "print(table)"
   ]
  },
  {
   "cell_type": "code",
   "execution_count": 26,
   "id": "83dc221d-c9b3-4dd1-b514-4fb1d3bd8d8a",
   "metadata": {},
   "outputs": [],
   "source": [
    "# Export the Table to a .csv file type\n",
    "table.export('foo.csv', f='csv', compress=True)"
   ]
  },
  {
   "cell_type": "code",
   "execution_count": 28,
   "id": "430aabcb-85df-47ed-8510-3720b9f03999",
   "metadata": {},
   "outputs": [],
   "source": [
    "# Export the first table to working directory \n",
    "table[0].to_csv('foo.csv')"
   ]
  },
  {
   "cell_type": "code",
   "execution_count": null,
   "id": "5cb89726-6732-4e8e-9df2-6bf8ad3d9578",
   "metadata": {},
   "outputs": [],
   "source": []
  }
 ],
 "metadata": {
  "kernelspec": {
   "display_name": "Python 3 (ipykernel)",
   "language": "python",
   "name": "python3"
  },
  "language_info": {
   "codemirror_mode": {
    "name": "ipython",
    "version": 3
   },
   "file_extension": ".py",
   "mimetype": "text/x-python",
   "name": "python",
   "nbconvert_exporter": "python",
   "pygments_lexer": "ipython3",
   "version": "3.8.16"
  }
 },
 "nbformat": 4,
 "nbformat_minor": 5
}
