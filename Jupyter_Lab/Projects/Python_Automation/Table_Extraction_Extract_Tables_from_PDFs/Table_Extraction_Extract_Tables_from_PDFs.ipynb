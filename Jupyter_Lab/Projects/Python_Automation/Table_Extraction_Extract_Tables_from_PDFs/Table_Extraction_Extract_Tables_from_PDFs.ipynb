{
 "cells": [
  {
   "cell_type": "code",
   "execution_count": 1,
   "id": "13b9cb74-3311-46ab-b4ec-8a3c6bd01b71",
   "metadata": {},
   "outputs": [],
   "source": [
    "# Table Extraction: Extract Tables from PDF's"
   ]
  },
  {
   "cell_type": "code",
   "execution_count": 2,
   "id": "e2ba6f25-f3a9-4d9b-9e3c-f5a155bd98d3",
   "metadata": {
    "tags": []
   },
   "outputs": [],
   "source": [
    "# Install missing Python libraries \n",
    "\n",
    "#!pip install tk\n",
    "#!pip install ghostscript\n",
    "#!pip install camelot-py\n",
    "#!pip install opencv-python"
   ]
  },
  {
   "cell_type": "code",
   "execution_count": 5,
   "id": "c949cdae-30d5-418a-a8a0-792616d44609",
   "metadata": {},
   "outputs": [],
   "source": [
    "# Import libraries\n",
    "import cv2\n",
    "import camelot\n",
    "import ghostscript\n",
    "import tk"
   ]
  },
  {
   "cell_type": "code",
   "execution_count": 22,
   "id": "b851cf49-1975-44e5-ac61-91de0d910f10",
   "metadata": {},
   "outputs": [
    {
     "data": {
      "text/plain": [
       "<TableList n=1>"
      ]
     },
     "execution_count": 22,
     "metadata": {},
     "output_type": "execute_result"
    }
   ],
   "source": [
    "# Read the PDF file\n",
    "camelot.read_pdf('foo.pdf', pages='1')"
   ]
  },
  {
   "cell_type": "code",
   "execution_count": 23,
   "id": "f3d28273-1338-4aaf-a28e-f15b1d4ab1ed",
   "metadata": {},
   "outputs": [],
   "source": [
    "# Assign a variable to read the PDF file\n",
    "table = camelot.read_pdf('foo.pdf', pages='1')"
   ]
  }
 ],
 "metadata": {
  "kernelspec": {
   "display_name": "Python 3 (ipykernel)",
   "language": "python",
   "name": "python3"
  },
  "language_info": {
   "codemirror_mode": {
    "name": "ipython",
    "version": 3
   },
   "file_extension": ".py",
   "mimetype": "text/x-python",
   "name": "python",
   "nbconvert_exporter": "python",
   "pygments_lexer": "ipython3",
   "version": "3.8.16"
  }
 },
 "nbformat": 4,
 "nbformat_minor": 5
}
