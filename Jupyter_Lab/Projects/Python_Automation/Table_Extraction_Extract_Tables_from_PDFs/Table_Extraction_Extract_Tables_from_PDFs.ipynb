{
 "cells": [
  {
   "cell_type": "code",
   "execution_count": 1,
   "id": "13b9cb74-3311-46ab-b4ec-8a3c6bd01b71",
   "metadata": {},
   "outputs": [],
   "source": [
    "# Table Extraction: Extract Tables from PDF's"
   ]
  },
  {
   "cell_type": "code",
   "execution_count": 2,
   "id": "e2ba6f25-f3a9-4d9b-9e3c-f5a155bd98d3",
   "metadata": {
    "tags": []
   },
   "outputs": [],
   "source": [
    "# Install missing Python libraries \n",
    "\n",
    "#!pip install tk\n",
    "#!pip install ghostscript\n",
    "#!pip install camelot-py\n",
    "#!pip install opencv-python"
   ]
  },
  {
   "cell_type": "code",
   "execution_count": 5,
   "id": "c949cdae-30d5-418a-a8a0-792616d44609",
   "metadata": {},
   "outputs": [],
   "source": [
    "# Import libraries\n",
    "import cv2\n",
    "import camelot\n",
    "import ghostscript\n",
    "import tk"
   ]
  },
  {
   "cell_type": "code",
   "execution_count": 17,
   "id": "b851cf49-1975-44e5-ac61-91de0d910f10",
   "metadata": {},
   "outputs": [
    {
     "data": {
      "text/plain": [
       "<TableList n=0>"
      ]
     },
     "execution_count": 17,
     "metadata": {},
     "output_type": "execute_result"
    }
   ],
   "source": [
    "# Read the PDF\n",
    "camelot.read_pdf('delta_flight_schedules.pdf', pages='1')"
   ]
  },
  {
   "cell_type": "code",
   "execution_count": 18,
   "id": "f3d28273-1338-4aaf-a28e-f15b1d4ab1ed",
   "metadata": {},
   "outputs": [],
   "source": [
    "# Assign a variable to LaGuardia Delta flights \n",
    "new_york_LGA = camelot.read_pdf('delta_flight_schedules.pdf', pages='1')"
   ]
  },
  {
   "cell_type": "code",
   "execution_count": 19,
   "id": "2e10b827-94a6-4314-8540-a245dcc9dcab",
   "metadata": {},
   "outputs": [
    {
     "data": {
      "text/plain": [
       "<TableList n=0>"
      ]
     },
     "execution_count": 19,
     "metadata": {},
     "output_type": "execute_result"
    }
   ],
   "source": [
    "# Table is not producing desired yield\n",
    "new_york_LGA"
   ]
  },
  {
   "cell_type": "code",
   "execution_count": 20,
   "id": "13e0d106-8789-47da-bf82-48506eb2c85d",
   "metadata": {},
   "outputs": [],
   "source": [
    "# Adjusting variable parser from default value of 'lattice' to 'stream' to resolve result\n",
    "# new_york_LGA = camelot.read_pdf('delta_flight_schedules.pdf', pages='427',parser='stream')\n",
    "\n",
    "# End result of changing parser from 'lattice' to 'stream' provided same return, therefore reverted to use of default parser 'lattice'  "
   ]
  },
  {
   "cell_type": "code",
   "execution_count": 21,
   "id": "38e179c1-afa4-461b-b173-dbcdcb1c967e",
   "metadata": {},
   "outputs": [
    {
     "data": {
      "text/plain": [
       "<TableList n=0>"
      ]
     },
     "execution_count": 21,
     "metadata": {},
     "output_type": "execute_result"
    }
   ],
   "source": [
    "new_york_LGA"
   ]
  },
  {
   "cell_type": "code",
   "execution_count": null,
   "id": "a3e487a4-39a7-4423-9860-6a7dc13af07a",
   "metadata": {},
   "outputs": [],
   "source": []
  }
 ],
 "metadata": {
  "kernelspec": {
   "display_name": "Python 3 (ipykernel)",
   "language": "python",
   "name": "python3"
  },
  "language_info": {
   "codemirror_mode": {
    "name": "ipython",
    "version": 3
   },
   "file_extension": ".py",
   "mimetype": "text/x-python",
   "name": "python",
   "nbconvert_exporter": "python",
   "pygments_lexer": "ipython3",
   "version": "3.8.16"
  }
 },
 "nbformat": 4,
 "nbformat_minor": 5
}
