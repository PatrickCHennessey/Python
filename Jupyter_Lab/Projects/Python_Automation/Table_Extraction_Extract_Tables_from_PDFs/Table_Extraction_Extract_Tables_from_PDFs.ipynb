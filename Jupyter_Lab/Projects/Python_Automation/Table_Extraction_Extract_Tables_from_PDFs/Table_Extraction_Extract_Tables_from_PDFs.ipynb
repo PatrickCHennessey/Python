{
 "cells": [
  {
   "cell_type": "code",
   "execution_count": 1,
   "id": "13b9cb74-3311-46ab-b4ec-8a3c6bd01b71",
   "metadata": {},
   "outputs": [],
   "source": [
    "# Table Extraction: Extract Tables from PDF's"
   ]
  },
  {
   "cell_type": "code",
   "execution_count": 7,
   "id": "e2ba6f25-f3a9-4d9b-9e3c-f5a155bd98d3",
   "metadata": {
    "collapsed": true,
    "jupyter": {
     "outputs_hidden": true
    },
    "tags": []
   },
   "outputs": [
    {
     "name": "stdout",
     "output_type": "stream",
     "text": [
      "Collecting opencv-python\n",
      "  Downloading opencv_python-4.7.0.72-cp37-abi3-win_amd64.whl (38.2 MB)\n",
      "     ---------------------------------------- 0.0/38.2 MB ? eta -:--:--\n",
      "     ---------------------------------------- 0.0/38.2 MB 1.3 MB/s eta 0:00:30\n",
      "     ---------------------------------------- 0.2/38.2 MB 2.6 MB/s eta 0:00:15\n",
      "     ---------------------------------------- 0.3/38.2 MB 2.8 MB/s eta 0:00:14\n",
      "      --------------------------------------- 0.6/38.2 MB 3.9 MB/s eta 0:00:10\n",
      "     - -------------------------------------- 1.6/38.2 MB 7.1 MB/s eta 0:00:06\n",
      "     -- ------------------------------------- 2.2/38.2 MB 8.6 MB/s eta 0:00:05\n",
      "     --- ------------------------------------ 3.3/38.2 MB 10.4 MB/s eta 0:00:04\n",
      "     ---- ----------------------------------- 4.7/38.2 MB 12.5 MB/s eta 0:00:03\n",
      "     ----- ---------------------------------- 5.2/38.2 MB 12.8 MB/s eta 0:00:03\n",
      "     ------ --------------------------------- 6.4/38.2 MB 13.7 MB/s eta 0:00:03\n",
      "     ------ --------------------------------- 6.4/38.2 MB 13.7 MB/s eta 0:00:03\n",
      "     -------- ------------------------------- 7.9/38.2 MB 13.7 MB/s eta 0:00:03\n",
      "     --------- ------------------------------ 8.9/38.2 MB 13.9 MB/s eta 0:00:03\n",
      "     ---------- ---------------------------- 10.4/38.2 MB 16.4 MB/s eta 0:00:02\n",
      "     ----------- --------------------------- 11.7/38.2 MB 19.3 MB/s eta 0:00:02\n",
      "     ------------ -------------------------- 12.4/38.2 MB 19.8 MB/s eta 0:00:02\n",
      "     ------------- ------------------------- 13.1/38.2 MB 19.3 MB/s eta 0:00:02\n",
      "     --------------- ----------------------- 14.9/38.2 MB 19.8 MB/s eta 0:00:02\n",
      "     --------------- ----------------------- 15.6/38.2 MB 21.8 MB/s eta 0:00:02\n",
      "     ----------------- --------------------- 17.2/38.2 MB 23.4 MB/s eta 0:00:01\n",
      "     ------------------ -------------------- 18.4/38.2 MB 24.2 MB/s eta 0:00:01\n",
      "     ------------------- ------------------- 19.2/38.2 MB 24.2 MB/s eta 0:00:01\n",
      "     -------------------- ------------------ 20.3/38.2 MB 22.6 MB/s eta 0:00:01\n",
      "     ---------------------- ---------------- 22.2/38.2 MB 26.2 MB/s eta 0:00:01\n",
      "     ----------------------- --------------- 23.2/38.2 MB 27.3 MB/s eta 0:00:01\n",
      "     -------------------------- ------------ 25.5/38.2 MB 28.4 MB/s eta 0:00:01\n",
      "     -------------------------- ------------ 26.2/38.2 MB 31.2 MB/s eta 0:00:01\n",
      "     ----------------------------- --------- 28.5/38.2 MB 32.7 MB/s eta 0:00:01\n",
      "     ------------------------------- ------- 30.4/38.2 MB 34.4 MB/s eta 0:00:01\n",
      "     --------------------------------- ----- 32.4/38.2 MB 38.5 MB/s eta 0:00:01\n",
      "     ---------------------------------- ---- 33.5/38.2 MB 38.6 MB/s eta 0:00:01\n",
      "     ----------------------------------- --- 34.3/38.2 MB 34.4 MB/s eta 0:00:01\n",
      "     ------------------------------------ -- 35.6/38.2 MB 32.8 MB/s eta 0:00:01\n",
      "     --------------------------------------  38.2/38.2 MB 34.4 MB/s eta 0:00:01\n",
      "     --------------------------------------  38.2/38.2 MB 34.4 MB/s eta 0:00:01\n",
      "     --------------------------------------- 38.2/38.2 MB 26.2 MB/s eta 0:00:00\n",
      "Requirement already satisfied: numpy>=1.17.3 in c:\\users\\patri\\anaconda3\\lib\\site-packages (from opencv-python) (1.24.3)\n",
      "Installing collected packages: opencv-python\n",
      "Successfully installed opencv-python-4.7.0.72\n"
     ]
    }
   ],
   "source": [
    "# Install missing Python libraries \n",
    "\n",
    "#!pip install tk\n",
    "#!pip install ghostscript\n",
    "#!pip install camelot-py\n",
    "#!pip install opencv-python"
   ]
  },
  {
   "cell_type": "code",
   "execution_count": 8,
   "id": "c949cdae-30d5-418a-a8a0-792616d44609",
   "metadata": {},
   "outputs": [],
   "source": [
    "# Import libraries\n",
    "import cv2\n",
    "import camelot"
   ]
  },
  {
   "cell_type": "code",
   "execution_count": null,
   "id": "b851cf49-1975-44e5-ac61-91de0d910f10",
   "metadata": {},
   "outputs": [],
   "source": []
  }
 ],
 "metadata": {
  "kernelspec": {
   "display_name": "Python 3 (ipykernel)",
   "language": "python",
   "name": "python3"
  },
  "language_info": {
   "codemirror_mode": {
    "name": "ipython",
    "version": 3
   },
   "file_extension": ".py",
   "mimetype": "text/x-python",
   "name": "python",
   "nbconvert_exporter": "python",
   "pygments_lexer": "ipython3",
   "version": "3.8.16"
  }
 },
 "nbformat": 4,
 "nbformat_minor": 5
}
