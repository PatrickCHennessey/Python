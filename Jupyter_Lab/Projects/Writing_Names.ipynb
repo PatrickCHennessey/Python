{
 "cells": [
  {
   "cell_type": "code",
   "execution_count": 2,
   "id": "97483050-3293-46f7-adc6-96b51ab3acb4",
   "metadata": {},
   "outputs": [],
   "source": [
    "fn='patrick'\n",
    "ln='hennessey'"
   ]
  },
  {
   "cell_type": "code",
   "execution_count": 3,
   "id": "d64d492d-580b-47a9-a536-a5465d9928ba",
   "metadata": {},
   "outputs": [
    {
     "name": "stdout",
     "output_type": "stream",
     "text": [
      "hennessey patrick\n"
     ]
    }
   ],
   "source": [
    "print(ln,fn)"
   ]
  },
  {
   "cell_type": "code",
   "execution_count": 4,
   "id": "8cc6bce2-5294-45ef-91cd-ed34b186101c",
   "metadata": {},
   "outputs": [],
   "source": [
    "family='Dad, Mom, Molly, Nora, Me'"
   ]
  },
  {
   "cell_type": "code",
   "execution_count": 5,
   "id": "1e2538ba-dad1-4786-bfd5-4d35f3535a65",
   "metadata": {},
   "outputs": [
    {
     "name": "stdout",
     "output_type": "stream",
     "text": [
      "Dad, Mom, Molly, Nora, Me\n"
     ]
    }
   ],
   "source": [
    "print(family)"
   ]
  },
  {
   "cell_type": "code",
   "execution_count": null,
   "id": "2652b55d-f299-4d1f-ab34-17ad4d384401",
   "metadata": {},
   "outputs": [],
   "source": []
  }
 ],
 "metadata": {
  "kernelspec": {
   "display_name": "Python 3",
   "language": "python",
   "name": "python3"
  },
  "language_info": {
   "codemirror_mode": {
    "name": "ipython",
    "version": 3
   },
   "file_extension": ".py",
   "mimetype": "text/x-python",
   "name": "python",
   "nbconvert_exporter": "python",
   "pygments_lexer": "ipython3",
   "version": "3.8.8"
  }
 },
 "nbformat": 4,
 "nbformat_minor": 5
}
