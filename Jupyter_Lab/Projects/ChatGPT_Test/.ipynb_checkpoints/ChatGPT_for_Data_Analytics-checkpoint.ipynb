{
 "cells": [
  {
   "cell_type": "code",
   "execution_count": 4,
   "id": "b364c405-aa9b-4e18-88ae-66d59082ac7e",
   "metadata": {},
   "outputs": [
    {
     "data": {
      "text/html": [
       "<div>\n",
       "<style scoped>\n",
       "    .dataframe tbody tr th:only-of-type {\n",
       "        vertical-align: middle;\n",
       "    }\n",
       "\n",
       "    .dataframe tbody tr th {\n",
       "        vertical-align: top;\n",
       "    }\n",
       "\n",
       "    .dataframe thead th {\n",
       "        text-align: right;\n",
       "    }\n",
       "</style>\n",
       "<table border=\"1\" class=\"dataframe\">\n",
       "  <thead>\n",
       "    <tr style=\"text-align: right;\">\n",
       "      <th></th>\n",
       "      <th>Column A</th>\n",
       "      <th>Column B</th>\n",
       "      <th>Column C</th>\n",
       "    </tr>\n",
       "  </thead>\n",
       "  <tbody>\n",
       "    <tr>\n",
       "      <th>0</th>\n",
       "      <td>1</td>\n",
       "      <td>A</td>\n",
       "      <td>True</td>\n",
       "    </tr>\n",
       "    <tr>\n",
       "      <th>1</th>\n",
       "      <td>2</td>\n",
       "      <td>B</td>\n",
       "      <td>False</td>\n",
       "    </tr>\n",
       "    <tr>\n",
       "      <th>2</th>\n",
       "      <td>3</td>\n",
       "      <td>C</td>\n",
       "      <td>True</td>\n",
       "    </tr>\n",
       "    <tr>\n",
       "      <th>3</th>\n",
       "      <td>4</td>\n",
       "      <td>D</td>\n",
       "      <td>False</td>\n",
       "    </tr>\n",
       "  </tbody>\n",
       "</table>\n",
       "</div>"
      ],
      "text/plain": [
       "   Column A Column B  Column C\n",
       "0         1        A      True\n",
       "1         2        B     False\n",
       "2         3        C      True\n",
       "3         4        D     False"
      ]
     },
     "execution_count": 4,
     "metadata": {},
     "output_type": "execute_result"
    }
   ],
   "source": [
    "import pandas as pd\n",
    "import seaborn as sns\n",
    "import matplotlib.pyplot as plt\n",
    "\n",
    "# Create a test DataFrame using a dictionary\n",
    "test = {\n",
    "    'Column A': [1, 2, 3, 4],\n",
    "    'Column B': ['A', 'B', 'C', 'D'],\n",
    "    'Column C': [True, False, True, False]\n",
    "}\n",
    "\n",
    "df = pd.DataFrame(test)\n",
    "\n",
    "# Display the test DataFrame\n",
    "df"
   ]
  },
  {
   "cell_type": "code",
   "execution_count": 6,
   "id": "848b2cbd-06a1-4824-8d3d-17a3c8554873",
   "metadata": {},
   "outputs": [],
   "source": [
    "# Path to CSV file\n",
    "file_path = 'C:/Users/Admin/Desktop/DADS/Data Sets/Kaggle/gsearch_jobs_cleaned.csv'\n",
    "\n",
    "# Read the CSV file into a DataFrame\n",
    "df = pd.read_csv(file_path)"
   ]
  },
  {
   "cell_type": "code",
   "execution_count": null,
   "id": "e453c621-53dc-4ff7-b89d-99e88ca2344d",
   "metadata": {},
   "outputs": [],
   "source": [
    "# Display the DataFrame\n",
    "df"
   ]
  },
  {
   "cell_type": "code",
   "execution_count": null,
   "id": "c3b917de-b045-4691-9b50-0eed905bbbb9",
   "metadata": {},
   "outputs": [],
   "source": [
    "# Extracting the most frequent job titles\n",
    "top_job_titles = df['title'].value_counts().nlargest(10)\n",
    "\n",
    "# Plotting the most frequent job titles\n",
    "plt.figure(figsize=(10, 8))\n",
    "sns.barplot(x=top_job_titles.values, y=top_job_titles.index, palette=\"Blues_r\")\n",
    "plt.title('Top 10 Most Frequent Job Titles')\n",
    "plt.xlabel('Frequency')\n",
    "plt.ylabel('Job Titles')\n",
    "plt.show()"
   ]
  }
 ],
 "metadata": {
  "kernelspec": {
   "display_name": "Python 3",
   "language": "python",
   "name": "python3"
  },
  "language_info": {
   "codemirror_mode": {
    "name": "ipython",
    "version": 3
   },
   "file_extension": ".py",
   "mimetype": "text/x-python",
   "name": "python",
   "nbconvert_exporter": "python",
   "pygments_lexer": "ipython3",
   "version": "3.8.8"
  }
 },
 "nbformat": 4,
 "nbformat_minor": 5
}
