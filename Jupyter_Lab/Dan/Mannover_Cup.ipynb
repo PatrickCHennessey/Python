{
 "cells": [
  {
   "cell_type": "code",
   "execution_count": 1,
   "metadata": {},
   "outputs": [],
   "source": [
    "# Dan advice: I'll need teams and players on each team \n",
    "# 3/18/21 Create GH repo for this and invite GH dwalsh@concordanalyticsllc.com\n"
   ]
  },
  {
   "cell_type": "code",
   "execution_count": 1,
   "metadata": {},
   "outputs": [],
   "source": [
    "import requests # allows access of internet, will only hand me info, won't allow me to parse it\n",
    "from bs4 import BeautifulSoup # this library is what will allow me to parse information grabbed from requests\n",
    "import pandas as pd # Allows creation for databases\n",
    "import re # Short for regular expressions\n",
    "import requests #"
   ]
  },
  {
   "cell_type": "code",
   "execution_count": 2,
   "metadata": {},
   "outputs": [],
   "source": [
    "link = \"https://www.baseball-reference.com/leagues/MLB/2020-standard-batting.shtml\""
   ]
  },
  {
   "cell_type": "code",
   "execution_count": 3,
   "metadata": {},
   "outputs": [],
   "source": [
    "page = requests.get(link)"
   ]
  },
  {
   "cell_type": "code",
   "execution_count": 4,
   "metadata": {},
   "outputs": [],
   "source": [
    "soup = BeautifulSoup(page.content, 'html.parser')"
   ]
  },
  {
   "cell_type": "code",
   "execution_count": null,
   "metadata": {},
   "outputs": [],
   "source": [
    "# Change repo from MLB to Sports then add MLB directory within it"
   ]
  },
  {
   "cell_type": "code",
   "execution_count": 7,
   "metadata": {},
   "outputs": [],
   "source": [
    "path = 'C:/Users/patri/DADS/GitHub_Exercises/Python/Python/Jupyter_Lab/Dan/Mannover_Cup_practice.xlsx'"
   ]
  },
  {
   "cell_type": "code",
   "execution_count": 11,
   "metadata": {},
   "outputs": [
    {
     "data": {
      "text/html": [
       "<div>\n",
       "<style scoped>\n",
       "    .dataframe tbody tr th:only-of-type {\n",
       "        vertical-align: middle;\n",
       "    }\n",
       "\n",
       "    .dataframe tbody tr th {\n",
       "        vertical-align: top;\n",
       "    }\n",
       "\n",
       "    .dataframe thead th {\n",
       "        text-align: right;\n",
       "    }\n",
       "</style>\n",
       "<table border=\"1\" class=\"dataframe\">\n",
       "  <thead>\n",
       "    <tr style=\"text-align: right;\">\n",
       "      <th></th>\n",
       "      <th>Draft Pick</th>\n",
       "      <th>Player</th>\n",
       "      <th>Player's Team</th>\n",
       "      <th>Player Position</th>\n",
       "      <th>Manager</th>\n",
       "    </tr>\n",
       "  </thead>\n",
       "  <tbody>\n",
       "    <tr>\n",
       "      <th>0</th>\n",
       "      <td>1</td>\n",
       "      <td>Mike Trout</td>\n",
       "      <td>LAA</td>\n",
       "      <td>OF</td>\n",
       "      <td>Ed</td>\n",
       "    </tr>\n",
       "    <tr>\n",
       "      <th>1</th>\n",
       "      <td>2</td>\n",
       "      <td>Freddie Freeman</td>\n",
       "      <td>ATL</td>\n",
       "      <td>1B</td>\n",
       "      <td>Ed</td>\n",
       "    </tr>\n",
       "    <tr>\n",
       "      <th>2</th>\n",
       "      <td>3</td>\n",
       "      <td>Pete Alonso</td>\n",
       "      <td>NYM</td>\n",
       "      <td>1B</td>\n",
       "      <td>Ed</td>\n",
       "    </tr>\n",
       "    <tr>\n",
       "      <th>3</th>\n",
       "      <td>4</td>\n",
       "      <td>Jacob deGrom</td>\n",
       "      <td>NYM</td>\n",
       "      <td>SP</td>\n",
       "      <td>Ed</td>\n",
       "    </tr>\n",
       "  </tbody>\n",
       "</table>\n",
       "</div>"
      ],
      "text/plain": [
       "   Draft Pick           Player Player's Team Player Position Manager\n",
       "0           1       Mike Trout           LAA              OF      Ed\n",
       "1           2  Freddie Freeman           ATL              1B      Ed\n",
       "2           3      Pete Alonso           NYM              1B      Ed\n",
       "3           4     Jacob deGrom           NYM              SP      Ed"
      ]
     },
     "execution_count": 11,
     "metadata": {},
     "output_type": "execute_result"
    }
   ],
   "source": [
    "data = pd.read_excel(path, sheet_name = 'Ed') \n",
    "data"
   ]
  },
  {
   "cell_type": "code",
   "execution_count": null,
   "metadata": {},
   "outputs": [],
   "source": [
    "data"
   ]
  },
  {
   "cell_type": "code",
   "execution_count": 12,
   "metadata": {},
   "outputs": [
    {
     "name": "stdout",
     "output_type": "stream",
     "text": [
      "https://www.baseball-reference.com/teams/LAA/2020.shtml\n",
      "https://www.baseball-reference.com/teams/ATL/2020.shtml\n",
      "https://www.baseball-reference.com/teams/NYM/2020.shtml\n",
      "https://www.baseball-reference.com/teams/NYM/2020.shtml\n"
     ]
    }
   ],
   "source": [
    "for row in range(0,len(data)):\n",
    "    team = data[\"Player's Team\"][row]\n",
    "    player = data[\"Player\"][row]\n",
    "    #look up the team page \n",
    "    # we need to do requests on that link\n",
    "    link = 'https://www.baseball-reference.com/teams/{}/2020.shtml'.format(team)\n",
    "    print(link)\n",
    "    #Create beautiful soup object to then search page for player stats\n",
    "    resp = req.get(link)\n",
    "    soup = BeautifulSoup(resp.content, 'html.parser')\n",
    "    soup.find()\n",
    "    "
   ]
  },
  {
   "cell_type": "code",
   "execution_count": null,
   "metadata": {},
   "outputs": [],
   "source": [
    "# Get hardware for setting up new laptop on multi monitors\n",
    "# Send excel file out to other Managers DONE\n",
    "# Soup.find for players name specifically the section for where the stats are that I want to extract specifically\n",
    "soup.find(\"HR, R,\")"
   ]
  }
 ],
 "metadata": {
  "kernelspec": {
   "display_name": "Python 3",
   "language": "python",
   "name": "python3"
  },
  "language_info": {
   "codemirror_mode": {
    "name": "ipython",
    "version": 3
   },
   "file_extension": ".py",
   "mimetype": "text/x-python",
   "name": "python",
   "nbconvert_exporter": "python",
   "pygments_lexer": "ipython3",
   "version": "3.8.5"
  }
 },
 "nbformat": 4,
 "nbformat_minor": 5
}
