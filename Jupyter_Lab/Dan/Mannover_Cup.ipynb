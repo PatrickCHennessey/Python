{
 "cells": [
  {
   "cell_type": "code",
   "execution_count": 1,
   "id": "chemical-seafood",
   "metadata": {},
   "outputs": [],
   "source": [
    "# Dan advice: I'll need teams and players on each team \n",
    "# 3/18/21 Create GH repo for this and invite GH dwalsh@concordanalyticsllc.com"
   ]
  },
  {
   "cell_type": "code",
   "execution_count": 2,
   "id": "cathedral-amendment",
   "metadata": {},
   "outputs": [],
   "source": [
    "import requests # allows access of internet, will only hand me info, won't allow me to parse it\n",
    "from bs4 import BeautifulSoup # this library is what will allow me to parse information grabbed from requests\n",
    "import pandas as pd # Allows creation for databases\n",
    "import os\n",
    "\n",
    "import re # Short for regular expressions\n"
   ]
  },
  {
   "cell_type": "code",
   "execution_count": 3,
   "id": "increased-speaker",
   "metadata": {},
   "outputs": [],
   "source": [
    "link = \"https://www.baseball-reference.com/leagues/majors/2021-standard-batting.shtml\""
   ]
  },
  {
   "cell_type": "code",
   "execution_count": 4,
   "id": "forty-companion",
   "metadata": {},
   "outputs": [],
   "source": [
    "page = requests.get(link)"
   ]
  },
  {
   "cell_type": "code",
   "execution_count": 5,
   "id": "understood-raise",
   "metadata": {},
   "outputs": [],
   "source": [
    "soup = BeautifulSoup(page.content, 'html.parser')"
   ]
  },
  {
   "cell_type": "code",
   "execution_count": 6,
   "id": "infectious-fighter",
   "metadata": {},
   "outputs": [],
   "source": [
    "# Change repo from MLB to Sports then add MLB directory within it"
   ]
  },
  {
   "cell_type": "code",
   "execution_count": 6,
   "id": "chemical-impossible",
   "metadata": {},
   "outputs": [
    {
     "name": "stdout",
     "output_type": "stream",
     "text": [
      "colin.csv\n",
      "ed.csv\n",
      "final.xlsx\n"
     ]
    },
    {
     "ename": "UnicodeDecodeError",
     "evalue": "'utf-8' codec can't decode byte 0xf1 in position 12: invalid continuation byte",
     "output_type": "error",
     "traceback": [
      "\u001B[1;31m---------------------------------------------------------------------------\u001B[0m",
      "\u001B[1;31mUnicodeDecodeError\u001B[0m                        Traceback (most recent call last)",
      "\u001B[1;32m~\\AppData\\Local\\Temp/ipykernel_15424/2653550334.py\u001B[0m in \u001B[0;36m<module>\u001B[1;34m\u001B[0m\n\u001B[0;32m      5\u001B[0m \u001B[1;32mfor\u001B[0m \u001B[0mfile\u001B[0m \u001B[1;32min\u001B[0m \u001B[0mos\u001B[0m\u001B[1;33m.\u001B[0m\u001B[0mlistdir\u001B[0m\u001B[1;33m(\u001B[0m\u001B[0mpath\u001B[0m\u001B[1;33m)\u001B[0m\u001B[1;33m:\u001B[0m\u001B[1;33m\u001B[0m\u001B[1;33m\u001B[0m\u001B[0m\n\u001B[0;32m      6\u001B[0m     \u001B[0mprint\u001B[0m\u001B[1;33m(\u001B[0m\u001B[0mfile\u001B[0m\u001B[1;33m)\u001B[0m\u001B[1;33m\u001B[0m\u001B[1;33m\u001B[0m\u001B[0m\n\u001B[1;32m----> 7\u001B[1;33m     \u001B[0mdata\u001B[0m \u001B[1;33m=\u001B[0m \u001B[0mpd\u001B[0m\u001B[1;33m.\u001B[0m\u001B[0mread_csv\u001B[0m\u001B[1;33m(\u001B[0m\u001B[0mpath\u001B[0m\u001B[1;33m+\u001B[0m\u001B[0mfile\u001B[0m\u001B[1;33m)\u001B[0m\u001B[1;33m\u001B[0m\u001B[1;33m\u001B[0m\u001B[0m\n\u001B[0m\u001B[0;32m      8\u001B[0m     \u001B[0mfinal\u001B[0m \u001B[1;33m=\u001B[0m \u001B[0mpd\u001B[0m\u001B[1;33m.\u001B[0m\u001B[0mconcat\u001B[0m\u001B[1;33m(\u001B[0m\u001B[1;33m[\u001B[0m\u001B[0mdata\u001B[0m\u001B[1;33m,\u001B[0m\u001B[0mfinal\u001B[0m\u001B[1;33m]\u001B[0m\u001B[1;33m)\u001B[0m\u001B[1;33m\u001B[0m\u001B[1;33m\u001B[0m\u001B[0m\n\u001B[0;32m      9\u001B[0m \u001B[0mfinal\u001B[0m\u001B[1;33m.\u001B[0m\u001B[0mto_excel\u001B[0m\u001B[1;33m(\u001B[0m\u001B[0mpath\u001B[0m\u001B[1;33m+\u001B[0m\u001B[1;34m'final.xlsx'\u001B[0m\u001B[1;33m,\u001B[0m \u001B[0mindex\u001B[0m\u001B[1;33m=\u001B[0m\u001B[1;32mFalse\u001B[0m\u001B[1;33m)\u001B[0m\u001B[1;33m\u001B[0m\u001B[1;33m\u001B[0m\u001B[0m\n",
      "\u001B[1;32m~\\AppData\\Roaming\\Python\\Python39\\site-packages\\pandas\\util\\_decorators.py\u001B[0m in \u001B[0;36mwrapper\u001B[1;34m(*args, **kwargs)\u001B[0m\n\u001B[0;32m    309\u001B[0m                     \u001B[0mstacklevel\u001B[0m\u001B[1;33m=\u001B[0m\u001B[0mstacklevel\u001B[0m\u001B[1;33m,\u001B[0m\u001B[1;33m\u001B[0m\u001B[1;33m\u001B[0m\u001B[0m\n\u001B[0;32m    310\u001B[0m                 )\n\u001B[1;32m--> 311\u001B[1;33m             \u001B[1;32mreturn\u001B[0m \u001B[0mfunc\u001B[0m\u001B[1;33m(\u001B[0m\u001B[1;33m*\u001B[0m\u001B[0margs\u001B[0m\u001B[1;33m,\u001B[0m \u001B[1;33m**\u001B[0m\u001B[0mkwargs\u001B[0m\u001B[1;33m)\u001B[0m\u001B[1;33m\u001B[0m\u001B[1;33m\u001B[0m\u001B[0m\n\u001B[0m\u001B[0;32m    312\u001B[0m \u001B[1;33m\u001B[0m\u001B[0m\n\u001B[0;32m    313\u001B[0m         \u001B[1;32mreturn\u001B[0m \u001B[0mwrapper\u001B[0m\u001B[1;33m\u001B[0m\u001B[1;33m\u001B[0m\u001B[0m\n",
      "\u001B[1;32m~\\AppData\\Roaming\\Python\\Python39\\site-packages\\pandas\\io\\parsers\\readers.py\u001B[0m in \u001B[0;36mread_csv\u001B[1;34m(filepath_or_buffer, sep, delimiter, header, names, index_col, usecols, squeeze, prefix, mangle_dupe_cols, dtype, engine, converters, true_values, false_values, skipinitialspace, skiprows, skipfooter, nrows, na_values, keep_default_na, na_filter, verbose, skip_blank_lines, parse_dates, infer_datetime_format, keep_date_col, date_parser, dayfirst, cache_dates, iterator, chunksize, compression, thousands, decimal, lineterminator, quotechar, quoting, doublequote, escapechar, comment, encoding, encoding_errors, dialect, error_bad_lines, warn_bad_lines, on_bad_lines, delim_whitespace, low_memory, memory_map, float_precision, storage_options)\u001B[0m\n\u001B[0;32m    584\u001B[0m     \u001B[0mkwds\u001B[0m\u001B[1;33m.\u001B[0m\u001B[0mupdate\u001B[0m\u001B[1;33m(\u001B[0m\u001B[0mkwds_defaults\u001B[0m\u001B[1;33m)\u001B[0m\u001B[1;33m\u001B[0m\u001B[1;33m\u001B[0m\u001B[0m\n\u001B[0;32m    585\u001B[0m \u001B[1;33m\u001B[0m\u001B[0m\n\u001B[1;32m--> 586\u001B[1;33m     \u001B[1;32mreturn\u001B[0m \u001B[0m_read\u001B[0m\u001B[1;33m(\u001B[0m\u001B[0mfilepath_or_buffer\u001B[0m\u001B[1;33m,\u001B[0m \u001B[0mkwds\u001B[0m\u001B[1;33m)\u001B[0m\u001B[1;33m\u001B[0m\u001B[1;33m\u001B[0m\u001B[0m\n\u001B[0m\u001B[0;32m    587\u001B[0m \u001B[1;33m\u001B[0m\u001B[0m\n\u001B[0;32m    588\u001B[0m \u001B[1;33m\u001B[0m\u001B[0m\n",
      "\u001B[1;32m~\\AppData\\Roaming\\Python\\Python39\\site-packages\\pandas\\io\\parsers\\readers.py\u001B[0m in \u001B[0;36m_read\u001B[1;34m(filepath_or_buffer, kwds)\u001B[0m\n\u001B[0;32m    480\u001B[0m \u001B[1;33m\u001B[0m\u001B[0m\n\u001B[0;32m    481\u001B[0m     \u001B[1;31m# Create the parser.\u001B[0m\u001B[1;33m\u001B[0m\u001B[1;33m\u001B[0m\u001B[1;33m\u001B[0m\u001B[0m\n\u001B[1;32m--> 482\u001B[1;33m     \u001B[0mparser\u001B[0m \u001B[1;33m=\u001B[0m \u001B[0mTextFileReader\u001B[0m\u001B[1;33m(\u001B[0m\u001B[0mfilepath_or_buffer\u001B[0m\u001B[1;33m,\u001B[0m \u001B[1;33m**\u001B[0m\u001B[0mkwds\u001B[0m\u001B[1;33m)\u001B[0m\u001B[1;33m\u001B[0m\u001B[1;33m\u001B[0m\u001B[0m\n\u001B[0m\u001B[0;32m    483\u001B[0m \u001B[1;33m\u001B[0m\u001B[0m\n\u001B[0;32m    484\u001B[0m     \u001B[1;32mif\u001B[0m \u001B[0mchunksize\u001B[0m \u001B[1;32mor\u001B[0m \u001B[0miterator\u001B[0m\u001B[1;33m:\u001B[0m\u001B[1;33m\u001B[0m\u001B[1;33m\u001B[0m\u001B[0m\n",
      "\u001B[1;32m~\\AppData\\Roaming\\Python\\Python39\\site-packages\\pandas\\io\\parsers\\readers.py\u001B[0m in \u001B[0;36m__init__\u001B[1;34m(self, f, engine, **kwds)\u001B[0m\n\u001B[0;32m    809\u001B[0m             \u001B[0mself\u001B[0m\u001B[1;33m.\u001B[0m\u001B[0moptions\u001B[0m\u001B[1;33m[\u001B[0m\u001B[1;34m\"has_index_names\"\u001B[0m\u001B[1;33m]\u001B[0m \u001B[1;33m=\u001B[0m \u001B[0mkwds\u001B[0m\u001B[1;33m[\u001B[0m\u001B[1;34m\"has_index_names\"\u001B[0m\u001B[1;33m]\u001B[0m\u001B[1;33m\u001B[0m\u001B[1;33m\u001B[0m\u001B[0m\n\u001B[0;32m    810\u001B[0m \u001B[1;33m\u001B[0m\u001B[0m\n\u001B[1;32m--> 811\u001B[1;33m         \u001B[0mself\u001B[0m\u001B[1;33m.\u001B[0m\u001B[0m_engine\u001B[0m \u001B[1;33m=\u001B[0m \u001B[0mself\u001B[0m\u001B[1;33m.\u001B[0m\u001B[0m_make_engine\u001B[0m\u001B[1;33m(\u001B[0m\u001B[0mself\u001B[0m\u001B[1;33m.\u001B[0m\u001B[0mengine\u001B[0m\u001B[1;33m)\u001B[0m\u001B[1;33m\u001B[0m\u001B[1;33m\u001B[0m\u001B[0m\n\u001B[0m\u001B[0;32m    812\u001B[0m \u001B[1;33m\u001B[0m\u001B[0m\n\u001B[0;32m    813\u001B[0m     \u001B[1;32mdef\u001B[0m \u001B[0mclose\u001B[0m\u001B[1;33m(\u001B[0m\u001B[0mself\u001B[0m\u001B[1;33m)\u001B[0m\u001B[1;33m:\u001B[0m\u001B[1;33m\u001B[0m\u001B[1;33m\u001B[0m\u001B[0m\n",
      "\u001B[1;32m~\\AppData\\Roaming\\Python\\Python39\\site-packages\\pandas\\io\\parsers\\readers.py\u001B[0m in \u001B[0;36m_make_engine\u001B[1;34m(self, engine)\u001B[0m\n\u001B[0;32m   1038\u001B[0m             )\n\u001B[0;32m   1039\u001B[0m         \u001B[1;31m# error: Too many arguments for \"ParserBase\"\u001B[0m\u001B[1;33m\u001B[0m\u001B[1;33m\u001B[0m\u001B[1;33m\u001B[0m\u001B[0m\n\u001B[1;32m-> 1040\u001B[1;33m         \u001B[1;32mreturn\u001B[0m \u001B[0mmapping\u001B[0m\u001B[1;33m[\u001B[0m\u001B[0mengine\u001B[0m\u001B[1;33m]\u001B[0m\u001B[1;33m(\u001B[0m\u001B[0mself\u001B[0m\u001B[1;33m.\u001B[0m\u001B[0mf\u001B[0m\u001B[1;33m,\u001B[0m \u001B[1;33m**\u001B[0m\u001B[0mself\u001B[0m\u001B[1;33m.\u001B[0m\u001B[0moptions\u001B[0m\u001B[1;33m)\u001B[0m  \u001B[1;31m# type: ignore[call-arg]\u001B[0m\u001B[1;33m\u001B[0m\u001B[1;33m\u001B[0m\u001B[0m\n\u001B[0m\u001B[0;32m   1041\u001B[0m \u001B[1;33m\u001B[0m\u001B[0m\n\u001B[0;32m   1042\u001B[0m     \u001B[1;32mdef\u001B[0m \u001B[0m_failover_to_python\u001B[0m\u001B[1;33m(\u001B[0m\u001B[0mself\u001B[0m\u001B[1;33m)\u001B[0m\u001B[1;33m:\u001B[0m\u001B[1;33m\u001B[0m\u001B[1;33m\u001B[0m\u001B[0m\n",
      "\u001B[1;32m~\\AppData\\Roaming\\Python\\Python39\\site-packages\\pandas\\io\\parsers\\c_parser_wrapper.py\u001B[0m in \u001B[0;36m__init__\u001B[1;34m(self, src, **kwds)\u001B[0m\n\u001B[0;32m     67\u001B[0m         \u001B[0mkwds\u001B[0m\u001B[1;33m[\u001B[0m\u001B[1;34m\"dtype\"\u001B[0m\u001B[1;33m]\u001B[0m \u001B[1;33m=\u001B[0m \u001B[0mensure_dtype_objs\u001B[0m\u001B[1;33m(\u001B[0m\u001B[0mkwds\u001B[0m\u001B[1;33m.\u001B[0m\u001B[0mget\u001B[0m\u001B[1;33m(\u001B[0m\u001B[1;34m\"dtype\"\u001B[0m\u001B[1;33m,\u001B[0m \u001B[1;32mNone\u001B[0m\u001B[1;33m)\u001B[0m\u001B[1;33m)\u001B[0m\u001B[1;33m\u001B[0m\u001B[1;33m\u001B[0m\u001B[0m\n\u001B[0;32m     68\u001B[0m         \u001B[1;32mtry\u001B[0m\u001B[1;33m:\u001B[0m\u001B[1;33m\u001B[0m\u001B[1;33m\u001B[0m\u001B[0m\n\u001B[1;32m---> 69\u001B[1;33m             \u001B[0mself\u001B[0m\u001B[1;33m.\u001B[0m\u001B[0m_reader\u001B[0m \u001B[1;33m=\u001B[0m \u001B[0mparsers\u001B[0m\u001B[1;33m.\u001B[0m\u001B[0mTextReader\u001B[0m\u001B[1;33m(\u001B[0m\u001B[0mself\u001B[0m\u001B[1;33m.\u001B[0m\u001B[0mhandles\u001B[0m\u001B[1;33m.\u001B[0m\u001B[0mhandle\u001B[0m\u001B[1;33m,\u001B[0m \u001B[1;33m**\u001B[0m\u001B[0mkwds\u001B[0m\u001B[1;33m)\u001B[0m\u001B[1;33m\u001B[0m\u001B[1;33m\u001B[0m\u001B[0m\n\u001B[0m\u001B[0;32m     70\u001B[0m         \u001B[1;32mexcept\u001B[0m \u001B[0mException\u001B[0m\u001B[1;33m:\u001B[0m\u001B[1;33m\u001B[0m\u001B[1;33m\u001B[0m\u001B[0m\n\u001B[0;32m     71\u001B[0m             \u001B[0mself\u001B[0m\u001B[1;33m.\u001B[0m\u001B[0mhandles\u001B[0m\u001B[1;33m.\u001B[0m\u001B[0mclose\u001B[0m\u001B[1;33m(\u001B[0m\u001B[1;33m)\u001B[0m\u001B[1;33m\u001B[0m\u001B[1;33m\u001B[0m\u001B[0m\n",
      "\u001B[1;32m~\\AppData\\Roaming\\Python\\Python39\\site-packages\\pandas\\_libs\\parsers.pyx\u001B[0m in \u001B[0;36mpandas._libs.parsers.TextReader.__cinit__\u001B[1;34m()\u001B[0m\n",
      "\u001B[1;32m~\\AppData\\Roaming\\Python\\Python39\\site-packages\\pandas\\_libs\\parsers.pyx\u001B[0m in \u001B[0;36mpandas._libs.parsers.TextReader._get_header\u001B[1;34m()\u001B[0m\n",
      "\u001B[1;32m~\\AppData\\Roaming\\Python\\Python39\\site-packages\\pandas\\_libs\\parsers.pyx\u001B[0m in \u001B[0;36mpandas._libs.parsers.TextReader._tokenize_rows\u001B[1;34m()\u001B[0m\n",
      "\u001B[1;32m~\\AppData\\Roaming\\Python\\Python39\\site-packages\\pandas\\_libs\\parsers.pyx\u001B[0m in \u001B[0;36mpandas._libs.parsers.raise_parser_error\u001B[1;34m()\u001B[0m\n",
      "\u001B[1;31mUnicodeDecodeError\u001B[0m: 'utf-8' codec can't decode byte 0xf1 in position 12: invalid continuation byte"
     ]
    }
   ],
   "source": [
    "path = 'C:/Users/Admin/GitHub Cloned Repositories/Python/Jupyter_Lab/Dan/mannover_cup/2020/'\n",
    "\n",
    "final = pd.DataFrame()\n",
    "\n",
    "for file in os.listdir(path):\n",
    "    print(file)\n",
    "    data = pd.read_csv(path+file)\n",
    "    final = pd.concat([data,final])\n",
    "final.to_excel(path+'final.xlsx', index=False)"
   ]
  },
  {
   "cell_type": "code",
   "execution_count": 7,
   "outputs": [
    {
     "data": {
      "text/plain": "    Draft Pick             Player Team Position Manager\n0            1         Mike Trout  LAA       OF      Ed\n1            2          Juan Soto  WSN       OF      Ed\n2            3        Pete Alonso  NYM       1B      Ed\n3            4       Bryce Harper  PHI       OF      Ed\n4            5     Gleyber Torres  NYY       SS      Ed\n5            6    Clayton Kershaw  LAD       SP      Ed\n6            7      Liam Hendriks  CHW       CL      Ed\n7            8         Josh Hader  MIL       CL      Ed\n8            9        Blake Snell  SDP       SP      Ed\n9           10     Salvador Perez  KCR        C      Ed\n10          11     Eugenio Suarez  CIN       SS      Ed\n11          12       Matt Chapman  OAK       3B      Ed\n12          13        Ketel Marte  ARI       OF      Ed\n13          14       Keston Hiura  MIL       1B      Ed\n14          15     Yordan Alvarez  HOU       OF      Ed\n15          16  Giancarlo Stanton  NYY       OF      Ed\n16          17       Hyun Jin Ryu  TOR       SP      Ed\n17          18       Zack Greinke  HOU       SP      Ed\n18          19         Will Smith  ATL       CL      Ed\n19          20          Josh Bell  WSN       1B      Ed\n20          21      Franmil Reyes  CLE       OF      Ed\n21          22       Joc Pederson  CHC       OF      Ed\n22          23      Shohei Ohtani  LAA       OF      Ed\n23          24        Dylan Bundy  LAA       SP      Ed\n24          25     Ke'Bryan Hayes  PIT       3B      Ed\n25          26       Gary Sanchez  NYY        C      Ed\n26          27     Charlie Morton  TBR       SP      Ed\n27          28       Jesse Winker  CIN       OF      Ed\n28          29       James McCann  NYM        C      Ed\n29          30       Corey Kluber  NYY       SP      Ed",
      "text/html": "<div>\n<style scoped>\n    .dataframe tbody tr th:only-of-type {\n        vertical-align: middle;\n    }\n\n    .dataframe tbody tr th {\n        vertical-align: top;\n    }\n\n    .dataframe thead th {\n        text-align: right;\n    }\n</style>\n<table border=\"1\" class=\"dataframe\">\n  <thead>\n    <tr style=\"text-align: right;\">\n      <th></th>\n      <th>Draft Pick</th>\n      <th>Player</th>\n      <th>Team</th>\n      <th>Position</th>\n      <th>Manager</th>\n    </tr>\n  </thead>\n  <tbody>\n    <tr>\n      <th>0</th>\n      <td>1</td>\n      <td>Mike Trout</td>\n      <td>LAA</td>\n      <td>OF</td>\n      <td>Ed</td>\n    </tr>\n    <tr>\n      <th>1</th>\n      <td>2</td>\n      <td>Juan Soto</td>\n      <td>WSN</td>\n      <td>OF</td>\n      <td>Ed</td>\n    </tr>\n    <tr>\n      <th>2</th>\n      <td>3</td>\n      <td>Pete Alonso</td>\n      <td>NYM</td>\n      <td>1B</td>\n      <td>Ed</td>\n    </tr>\n    <tr>\n      <th>3</th>\n      <td>4</td>\n      <td>Bryce Harper</td>\n      <td>PHI</td>\n      <td>OF</td>\n      <td>Ed</td>\n    </tr>\n    <tr>\n      <th>4</th>\n      <td>5</td>\n      <td>Gleyber Torres</td>\n      <td>NYY</td>\n      <td>SS</td>\n      <td>Ed</td>\n    </tr>\n    <tr>\n      <th>5</th>\n      <td>6</td>\n      <td>Clayton Kershaw</td>\n      <td>LAD</td>\n      <td>SP</td>\n      <td>Ed</td>\n    </tr>\n    <tr>\n      <th>6</th>\n      <td>7</td>\n      <td>Liam Hendriks</td>\n      <td>CHW</td>\n      <td>CL</td>\n      <td>Ed</td>\n    </tr>\n    <tr>\n      <th>7</th>\n      <td>8</td>\n      <td>Josh Hader</td>\n      <td>MIL</td>\n      <td>CL</td>\n      <td>Ed</td>\n    </tr>\n    <tr>\n      <th>8</th>\n      <td>9</td>\n      <td>Blake Snell</td>\n      <td>SDP</td>\n      <td>SP</td>\n      <td>Ed</td>\n    </tr>\n    <tr>\n      <th>9</th>\n      <td>10</td>\n      <td>Salvador Perez</td>\n      <td>KCR</td>\n      <td>C</td>\n      <td>Ed</td>\n    </tr>\n    <tr>\n      <th>10</th>\n      <td>11</td>\n      <td>Eugenio Suarez</td>\n      <td>CIN</td>\n      <td>SS</td>\n      <td>Ed</td>\n    </tr>\n    <tr>\n      <th>11</th>\n      <td>12</td>\n      <td>Matt Chapman</td>\n      <td>OAK</td>\n      <td>3B</td>\n      <td>Ed</td>\n    </tr>\n    <tr>\n      <th>12</th>\n      <td>13</td>\n      <td>Ketel Marte</td>\n      <td>ARI</td>\n      <td>OF</td>\n      <td>Ed</td>\n    </tr>\n    <tr>\n      <th>13</th>\n      <td>14</td>\n      <td>Keston Hiura</td>\n      <td>MIL</td>\n      <td>1B</td>\n      <td>Ed</td>\n    </tr>\n    <tr>\n      <th>14</th>\n      <td>15</td>\n      <td>Yordan Alvarez</td>\n      <td>HOU</td>\n      <td>OF</td>\n      <td>Ed</td>\n    </tr>\n    <tr>\n      <th>15</th>\n      <td>16</td>\n      <td>Giancarlo Stanton</td>\n      <td>NYY</td>\n      <td>OF</td>\n      <td>Ed</td>\n    </tr>\n    <tr>\n      <th>16</th>\n      <td>17</td>\n      <td>Hyun Jin Ryu</td>\n      <td>TOR</td>\n      <td>SP</td>\n      <td>Ed</td>\n    </tr>\n    <tr>\n      <th>17</th>\n      <td>18</td>\n      <td>Zack Greinke</td>\n      <td>HOU</td>\n      <td>SP</td>\n      <td>Ed</td>\n    </tr>\n    <tr>\n      <th>18</th>\n      <td>19</td>\n      <td>Will Smith</td>\n      <td>ATL</td>\n      <td>CL</td>\n      <td>Ed</td>\n    </tr>\n    <tr>\n      <th>19</th>\n      <td>20</td>\n      <td>Josh Bell</td>\n      <td>WSN</td>\n      <td>1B</td>\n      <td>Ed</td>\n    </tr>\n    <tr>\n      <th>20</th>\n      <td>21</td>\n      <td>Franmil Reyes</td>\n      <td>CLE</td>\n      <td>OF</td>\n      <td>Ed</td>\n    </tr>\n    <tr>\n      <th>21</th>\n      <td>22</td>\n      <td>Joc Pederson</td>\n      <td>CHC</td>\n      <td>OF</td>\n      <td>Ed</td>\n    </tr>\n    <tr>\n      <th>22</th>\n      <td>23</td>\n      <td>Shohei Ohtani</td>\n      <td>LAA</td>\n      <td>OF</td>\n      <td>Ed</td>\n    </tr>\n    <tr>\n      <th>23</th>\n      <td>24</td>\n      <td>Dylan Bundy</td>\n      <td>LAA</td>\n      <td>SP</td>\n      <td>Ed</td>\n    </tr>\n    <tr>\n      <th>24</th>\n      <td>25</td>\n      <td>Ke'Bryan Hayes</td>\n      <td>PIT</td>\n      <td>3B</td>\n      <td>Ed</td>\n    </tr>\n    <tr>\n      <th>25</th>\n      <td>26</td>\n      <td>Gary Sanchez</td>\n      <td>NYY</td>\n      <td>C</td>\n      <td>Ed</td>\n    </tr>\n    <tr>\n      <th>26</th>\n      <td>27</td>\n      <td>Charlie Morton</td>\n      <td>TBR</td>\n      <td>SP</td>\n      <td>Ed</td>\n    </tr>\n    <tr>\n      <th>27</th>\n      <td>28</td>\n      <td>Jesse Winker</td>\n      <td>CIN</td>\n      <td>OF</td>\n      <td>Ed</td>\n    </tr>\n    <tr>\n      <th>28</th>\n      <td>29</td>\n      <td>James McCann</td>\n      <td>NYM</td>\n      <td>C</td>\n      <td>Ed</td>\n    </tr>\n    <tr>\n      <th>29</th>\n      <td>30</td>\n      <td>Corey Kluber</td>\n      <td>NYY</td>\n      <td>SP</td>\n      <td>Ed</td>\n    </tr>\n  </tbody>\n</table>\n</div>"
     },
     "execution_count": 7,
     "metadata": {},
     "output_type": "execute_result"
    }
   ],
   "source": [
    "# will need to omit final.xlsx from loop to avoid combining final.xlsx\n",
    "# and data from other 5 draft results\n",
    "\n",
    "final.head(30)"
   ],
   "metadata": {
    "collapsed": false,
    "pycharm": {
     "name": "#%%\n"
    }
   }
  },
  {
   "cell_type": "code",
   "execution_count": null,
   "outputs": [],
   "source": [
    "# Create a function that scrapes a single player from link variable.\n",
    "# This function will need to update the players data as season progresses\n",
    "x=1\n",
    "\n",
    "\n",
    "#"
   ],
   "metadata": {
    "collapsed": false,
    "pycharm": {
     "name": "#%%\n"
    }
   }
  }
 ],
 "metadata": {
  "kernelspec": {
   "name": "pycharm-3b3a9528",
   "language": "python",
   "display_name": "PyCharm (Dan)"
  },
  "language_info": {
   "codemirror_mode": {
    "name": "ipython",
    "version": 3
   },
   "file_extension": ".py",
   "mimetype": "text/x-python",
   "name": "python",
   "nbconvert_exporter": "python",
   "pygments_lexer": "ipython3",
   "version": "3.8.8"
  }
 },
 "nbformat": 4,
 "nbformat_minor": 5
}