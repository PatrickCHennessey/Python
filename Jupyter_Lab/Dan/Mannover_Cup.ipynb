{
 "cells": [
  {
   "cell_type": "code",
   "execution_count": 13,
   "id": "chemical-seafood",
   "metadata": {},
   "outputs": [],
   "source": [
    "# Dan advice: I'll need teams and players on each team \n",
    "# 3/18/21 Create GH repo for this and invite GH dwalsh@concordanalyticsllc.com"
   ]
  },
  {
   "cell_type": "code",
   "execution_count": 3,
   "id": "cathedral-amendment",
   "metadata": {},
   "outputs": [],
   "source": [
    "import requests # allows access of internet, will only hand me info, won't allow me to parse it\n",
    "from bs4 import BeautifulSoup # this library is what will allow me to parse information grabbed from requests\n",
    "import pandas as pd # Allows creation for databases\n",
    "import os\n",
    "import re # Short for regular expressions\n"
   ]
  },
  {
   "cell_type": "code",
   "execution_count": 4,
   "id": "increased-speaker",
   "metadata": {},
   "outputs": [],
   "source": [
    "link = \"https://www.baseball-reference.com/leagues/majors/2021-standard-batting.shtml\""
   ]
  },
  {
   "cell_type": "code",
   "execution_count": 5,
   "id": "forty-companion",
   "metadata": {},
   "outputs": [],
   "source": [
    "page = requests.get(link)"
   ]
  },
  {
   "cell_type": "code",
   "execution_count": 6,
   "id": "understood-raise",
   "metadata": {},
   "outputs": [],
   "source": [
    "soup = BeautifulSoup(page.content, 'html.parser')"
   ]
  },
  {
   "cell_type": "code",
   "execution_count": 7,
   "id": "infectious-fighter",
   "metadata": {},
   "outputs": [],
   "source": [
    "# Change repo from MLB to Sports then add MLB directory within it"
   ]
  },
  {
   "cell_type": "code",
   "execution_count": 10,
   "id": "chemical-impossible",
   "metadata": {},
   "outputs": [
    {
     "name": "stdout",
     "output_type": "stream",
     "text": [
      "colin.csv\n",
      "ed.csv\n",
      "gilland.csv\n",
      "gross.csv\n",
      "patrick.csv\n"
     ]
    }
   ],
   "source": [
    "path = 'C:/Users/Admin/GitHub Cloned Repositories/Python/Jupyter_Lab/Dan/mannover_cup/2020/'\n",
    "\n",
    "final = pd.DataFrame()\n",
    "\n",
    "for file in os.listdir(path):\n",
    "    print(file)\n",
    "    data = pd.read_csv(path+file)\n",
    "    final = pd.concat([data,final])\n",
    "final.to_excel(path+'final.xlsx', index=False)"
   ]
  },
  {
   "cell_type": "code",
   "execution_count": null,
   "outputs": [],
   "source": [
    "pd.read_excel(path, sheet_name = 'Ed') "
   ],
   "metadata": {
    "collapsed": false,
    "pycharm": {
     "name": "#%%\n"
    }
   }
  },
  {
   "cell_type": "code",
   "execution_count": null,
   "id": "inappropriate-software",
   "metadata": {},
   "outputs": [],
   "source": [
    "# will need to omit final.xlsx from loop to avoid combining final.xlsx\n",
    "# and data from other 5 draft results\n",
    "\n"
   ]
  },
  {
   "cell_type": "code",
   "execution_count": null,
   "id": "596f4940",
   "metadata": {
    "collapsed": false,
    "jupyter": {
     "outputs_hidden": false
    },
    "pycharm": {
     "name": "#%%\n"
    }
   },
   "outputs": [],
   "source": []
  }
 ],
 "metadata": {
  "kernelspec": {
   "display_name": "Python 3",
   "language": "python",
   "name": "python3"
  },
  "language_info": {
   "codemirror_mode": {
    "name": "ipython",
    "version": 3
   },
   "file_extension": ".py",
   "mimetype": "text/x-python",
   "name": "python",
   "nbconvert_exporter": "python",
   "pygments_lexer": "ipython3",
   "version": "3.8.8"
  }
 },
 "nbformat": 4,
 "nbformat_minor": 5
}