{
 "cells": [
  {
   "cell_type": "code",
   "execution_count": 1,
   "id": "compound-latest",
   "metadata": {},
   "outputs": [],
   "source": [
    "x=3"
   ]
  },
  {
   "cell_type": "code",
   "execution_count": 2,
   "id": "about-bacteria",
   "metadata": {},
   "outputs": [],
   "source": [
    "# 3 things that Python based around, reread Dan's article"
   ]
  },
  {
   "cell_type": "code",
   "execution_count": null,
   "id": "departmental-leave",
   "metadata": {},
   "outputs": [],
   "source": [
    "# x is pokeball\n",
    "# 3 or value is the pokemon\n",
    "\n",
    "# pokeball is the marble circling the drain\n",
    "#\n",
    "# Look at type of pokemon/python type it is. \n",
    "# 1. type() = data type / type of the pokemon (electric pokemon, flying)\n",
    "# 2. dir() = functions or powers of python ()\n",
    "# 3. help() = assists in identifying  pokedex "
   ]
  }
 ],
 "metadata": {
  "kernelspec": {
   "display_name": "Python 3",
   "language": "python",
   "name": "python3"
  },
  "language_info": {
   "codemirror_mode": {
    "name": "ipython",
    "version": 3
   },
   "file_extension": ".py",
   "mimetype": "text/x-python",
   "name": "python",
   "nbconvert_exporter": "python",
   "pygments_lexer": "ipython3",
   "version": "3.7.6"
  }
 },
 "nbformat": 4,
 "nbformat_minor": 5
}
