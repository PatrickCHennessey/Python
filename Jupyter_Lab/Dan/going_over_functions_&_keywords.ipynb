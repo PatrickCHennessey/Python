{
 "cells": [
  {
   "cell_type": "code",
   "execution_count": 1,
   "id": "strange-answer",
   "metadata": {},
   "outputs": [
    {
     "name": "stdout",
     "output_type": "stream",
     "text": [
      "\n"
     ]
    }
   ],
   "source": [
    "x = 'string data type'"
   ]
  },
  {
   "cell_type": "code",
   "execution_count": 2,
   "id": "residential-pension",
   "metadata": {},
   "outputs": [
    {
     "name": "stdout",
     "output_type": "stream",
     "text": [
      "\n"
     ]
    }
   ],
   "source": [
    "print()\n",
    "# green not words that are bold - indicates function"
   ]
  },
  {
   "cell_type": "code",
   "execution_count": null,
   "id": "secure-developer",
   "metadata": {},
   "outputs": [],
   "source": [
    "def()\n",
    "# green bold words indicates keyword"
   ]
  },
  {
   "cell_type": "code",
   "execution_count": null,
   "id": "stretch-xerox",
   "metadata": {},
   "outputs": [],
   "source": [
    "type() \n",
    "# green words that are not bold - indicates function"
   ]
  },
  {
   "cell_type": "code",
   "execution_count": null,
   "id": "unusual-celtic",
   "metadata": {},
   "outputs": [],
   "source": [
    "import pandas as pd"
   ]
  }
 ],
 "metadata": {
  "kernelspec": {
   "display_name": "Python 3",
   "language": "python",
   "name": "python3"
  },
  "language_info": {
   "codemirror_mode": {
    "name": "ipython",
    "version": 3
   },
   "file_extension": ".py",
   "mimetype": "text/x-python",
   "name": "python",
   "nbconvert_exporter": "python",
   "pygments_lexer": "ipython3",
   "version": "3.7.6"
  }
 },
 "nbformat": 4,
 "nbformat_minor": 5
}
